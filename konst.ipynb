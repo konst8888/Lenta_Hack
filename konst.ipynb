{
 "cells": [
  {
   "cell_type": "raw",
   "id": "49294e63",
   "metadata": {},
   "source": [
    "1. Статус: Проведен анализ данных по промоакциям, выяснены инсайты, которые помогут построить фичи\n",
    "2. Следующие шаги: Проанализировать влияние чековых данных на аплифт, провести feature engineering, построить модель\n",
    "3. Помощь: Что с точки зрения бизнеса означает, что в одном оффере может находится несколько SKU?"
   ]
  },
  {
   "cell_type": "raw",
   "id": "b13a764f",
   "metadata": {},
   "source": [
    "Вопросы:\n",
    "1. а как ты пока понимаешь что в одном офферайди может быть несколько разных sku и по ним считается один аплифт?\n",
    "рекламируем колбасу с кетчупом?\n",
    "2. бесполезность большинства записей 20кк"
   ]
  },
  {
   "cell_type": "raw",
   "id": "457aa78f",
   "metadata": {},
   "source": [
    "Фичи:\n",
    "1. дни недели (мб сложно)\n",
    "2. время дня\n",
    "3. По promo_id - всё сложно, это хэш нашего внутреннего идентификатора, связанный со всевозможными типами промо. Предлагаю смотреть на наличие - отсутствие значения\n",
    "4. если перекрываются времена когда шла рк, можно эти кампании добавлять в один кластер (или фича-количество таких кампаний)\n",
    "5. брать topN наиболее частых товаров в одних и тех же чеках с текущим sku, агрегировать их инфу в фичи (цена), индикатор данной фичи\n",
    "- наиболее частая иерархия в чеке\n",
    "- средняя (макс, мин) цена чеков с данным товаром\n",
    "- среднее количество данного товара в чеке\n",
    "- среднее количество (уникальных) товаров в чеке\n",
    "6. время года (или месяц)\n",
    "7. праздники\n",
    "8. день как возрастающая хрень\n",
    "9. в какое время года в % проходит РК\n",
    "\n",
    "Датасет по sku без промо -- конкатим, обучаем (сколько товаров было куплено в тот или иной день, является ли он днем промоакции). ЧТобы прогнать через новых юзеров надо взять тех кто покупал в интервалы Х1 и Х2 (исторически) и сказать, что они будут покупать это\n",
    "\n",
    "Данные по чекам -- берем промежуток времени за год до промопериода (сезонность) - нельзя обучиться, всего год дан. Для тех кто не промо считаем аплифт также"
   ]
  },
  {
   "cell_type": "raw",
   "id": "9dca5dfb",
   "metadata": {},
   "source": [
    "Обучение:\n",
    "Берем транзакционные данные за текущий период по офферам + коннектим это с фичами продукту"
   ]
  },
  {
   "cell_type": "raw",
   "id": "ab7021c5",
   "metadata": {},
   "source": [
    "Random:\n",
    "\n",
    "Да, supply_price - цена поставки в магазин\n",
    "Selling_price - цена продажи (для покупателя)\n",
    "По типу акций: \n",
    "Billboards - размещение на билборде\n",
    "Facades - фасад магазина\n",
    "Biweekly - обложка регулярных двунедельных каталогов\n",
    "Seasonal - обложка сезонных каталогов\n",
    "\n"
   ]
  },
  {
   "cell_type": "code",
   "execution_count": 355,
   "id": "1c18964b",
   "metadata": {},
   "outputs": [
    {
     "name": "stderr",
     "output_type": "stream",
     "text": [
      "<ipython-input-355-9cade408cd8e>:10: FutureWarning: Passing a negative integer is deprecated in version 1.0 and will not be supported in future version. Instead, use None to not limit the column width.\n",
      "  pd.set_option('display.max_colwidth', -1)\n"
     ]
    }
   ],
   "source": [
    "import pandas as pd\n",
    "import numpy as np\n",
    "import seaborn as sns\n",
    "import matplotlib.pyplot as plt\n",
    "import datetime as dt\n",
    "from tqdm import tqdm\n",
    "from collections import Counter, deque\n",
    "tqdm.pandas()\n",
    "\n",
    "pd.set_option('display.max_colwidth', -1)\n",
    "pd.set_option('display.max_columns', 100)\n",
    "pd.set_option('display.max_rows', 200)\n",
    "\n",
    "plt.rcParams['figure.figsize'] = 12, 7"
   ]
  },
  {
   "cell_type": "markdown",
   "id": "47a146a7",
   "metadata": {},
   "source": [
    "## Data Analysis"
   ]
  },
  {
   "cell_type": "code",
   "execution_count": 2,
   "id": "ea54d581",
   "metadata": {
    "scrolled": false
   },
   "outputs": [
    {
     "name": "stdout",
     "output_type": "stream",
     "text": [
      "(21479259, 12)\n"
     ]
    },
    {
     "data": {
      "text/html": [
       "<div>\n",
       "<style scoped>\n",
       "    .dataframe tbody tr th:only-of-type {\n",
       "        vertical-align: middle;\n",
       "    }\n",
       "\n",
       "    .dataframe tbody tr th {\n",
       "        vertical-align: top;\n",
       "    }\n",
       "\n",
       "    .dataframe thead th {\n",
       "        text-align: right;\n",
       "    }\n",
       "</style>\n",
       "<table border=\"1\" class=\"dataframe\">\n",
       "  <thead>\n",
       "    <tr style=\"text-align: right;\">\n",
       "      <th></th>\n",
       "      <th>client_id</th>\n",
       "      <th>day</th>\n",
       "      <th>shop_id</th>\n",
       "      <th>check_id</th>\n",
       "      <th>time</th>\n",
       "      <th>sku</th>\n",
       "      <th>promo_id</th>\n",
       "      <th>check_pos</th>\n",
       "      <th>num_sales</th>\n",
       "      <th>supplier_price</th>\n",
       "      <th>selling_price</th>\n",
       "      <th>region_name</th>\n",
       "    </tr>\n",
       "  </thead>\n",
       "  <tbody>\n",
       "    <tr>\n",
       "      <th>0</th>\n",
       "      <td>d9da50b77962ad6401d0527db5b65b04</td>\n",
       "      <td>20191230</td>\n",
       "      <td>25bbdcd06c32d477f7fa1c3e4a91b032</td>\n",
       "      <td>c0b3f9c2215f924e27a6039617999c60</td>\n",
       "      <td>07:28:39</td>\n",
       "      <td>b17c870027bb4a22e3aedb971bc00def</td>\n",
       "      <td>b3deb0286313f0b888c0eac49580cc23</td>\n",
       "      <td>1</td>\n",
       "      <td>5.0</td>\n",
       "      <td>133.40</td>\n",
       "      <td>249.45</td>\n",
       "      <td>152f1b77a32508570e2745daf9ce7aec</td>\n",
       "    </tr>\n",
       "    <tr>\n",
       "      <th>1</th>\n",
       "      <td>d9da50b77962ad6401d0527db5b65b04</td>\n",
       "      <td>20191230</td>\n",
       "      <td>25bbdcd06c32d477f7fa1c3e4a91b032</td>\n",
       "      <td>c0b3f9c2215f924e27a6039617999c60</td>\n",
       "      <td>07:28:39</td>\n",
       "      <td>b9ef00e971d0fb459a765708efba70c0</td>\n",
       "      <td>680a96609351230ed00e1d1090371cbc</td>\n",
       "      <td>2</td>\n",
       "      <td>1.0</td>\n",
       "      <td>96.77</td>\n",
       "      <td>118.99</td>\n",
       "      <td>152f1b77a32508570e2745daf9ce7aec</td>\n",
       "    </tr>\n",
       "    <tr>\n",
       "      <th>2</th>\n",
       "      <td>d9da50b77962ad6401d0527db5b65b04</td>\n",
       "      <td>20191230</td>\n",
       "      <td>25bbdcd06c32d477f7fa1c3e4a91b032</td>\n",
       "      <td>c0b3f9c2215f924e27a6039617999c60</td>\n",
       "      <td>07:28:39</td>\n",
       "      <td>b75147feae4cf8ec07fb5f2cef855def</td>\n",
       "      <td>7215ee9c7d9dc229d2921a40e899ec5f</td>\n",
       "      <td>5</td>\n",
       "      <td>2.0</td>\n",
       "      <td>2.34</td>\n",
       "      <td>7.58</td>\n",
       "      <td>152f1b77a32508570e2745daf9ce7aec</td>\n",
       "    </tr>\n",
       "    <tr>\n",
       "      <th>3</th>\n",
       "      <td>d9da50b77962ad6401d0527db5b65b04</td>\n",
       "      <td>20191230</td>\n",
       "      <td>25bbdcd06c32d477f7fa1c3e4a91b032</td>\n",
       "      <td>c0b3f9c2215f924e27a6039617999c60</td>\n",
       "      <td>07:28:39</td>\n",
       "      <td>b25e0d42165d246d23cbf4d3efcdf583</td>\n",
       "      <td>7215ee9c7d9dc229d2921a40e899ec5f</td>\n",
       "      <td>4</td>\n",
       "      <td>1.0</td>\n",
       "      <td>23.59</td>\n",
       "      <td>39.99</td>\n",
       "      <td>152f1b77a32508570e2745daf9ce7aec</td>\n",
       "    </tr>\n",
       "    <tr>\n",
       "      <th>4</th>\n",
       "      <td>d9da50b77962ad6401d0527db5b65b04</td>\n",
       "      <td>20191230</td>\n",
       "      <td>25bbdcd06c32d477f7fa1c3e4a91b032</td>\n",
       "      <td>c0b3f9c2215f924e27a6039617999c60</td>\n",
       "      <td>07:28:39</td>\n",
       "      <td>a537d2eef30d47f9b11d655421ca93fb</td>\n",
       "      <td>05c93d4fa9bdbe70b5d2204ce9548ca9</td>\n",
       "      <td>3</td>\n",
       "      <td>1.0</td>\n",
       "      <td>24.02</td>\n",
       "      <td>39.99</td>\n",
       "      <td>152f1b77a32508570e2745daf9ce7aec</td>\n",
       "    </tr>\n",
       "  </tbody>\n",
       "</table>\n",
       "</div>"
      ],
      "text/plain": [
       "                          client_id       day  \\\n",
       "0  d9da50b77962ad6401d0527db5b65b04  20191230   \n",
       "1  d9da50b77962ad6401d0527db5b65b04  20191230   \n",
       "2  d9da50b77962ad6401d0527db5b65b04  20191230   \n",
       "3  d9da50b77962ad6401d0527db5b65b04  20191230   \n",
       "4  d9da50b77962ad6401d0527db5b65b04  20191230   \n",
       "\n",
       "                            shop_id                          check_id  \\\n",
       "0  25bbdcd06c32d477f7fa1c3e4a91b032  c0b3f9c2215f924e27a6039617999c60   \n",
       "1  25bbdcd06c32d477f7fa1c3e4a91b032  c0b3f9c2215f924e27a6039617999c60   \n",
       "2  25bbdcd06c32d477f7fa1c3e4a91b032  c0b3f9c2215f924e27a6039617999c60   \n",
       "3  25bbdcd06c32d477f7fa1c3e4a91b032  c0b3f9c2215f924e27a6039617999c60   \n",
       "4  25bbdcd06c32d477f7fa1c3e4a91b032  c0b3f9c2215f924e27a6039617999c60   \n",
       "\n",
       "       time                               sku  \\\n",
       "0  07:28:39  b17c870027bb4a22e3aedb971bc00def   \n",
       "1  07:28:39  b9ef00e971d0fb459a765708efba70c0   \n",
       "2  07:28:39  b75147feae4cf8ec07fb5f2cef855def   \n",
       "3  07:28:39  b25e0d42165d246d23cbf4d3efcdf583   \n",
       "4  07:28:39  a537d2eef30d47f9b11d655421ca93fb   \n",
       "\n",
       "                           promo_id  check_pos  num_sales  supplier_price  \\\n",
       "0  b3deb0286313f0b888c0eac49580cc23          1        5.0          133.40   \n",
       "1  680a96609351230ed00e1d1090371cbc          2        1.0           96.77   \n",
       "2  7215ee9c7d9dc229d2921a40e899ec5f          5        2.0            2.34   \n",
       "3  7215ee9c7d9dc229d2921a40e899ec5f          4        1.0           23.59   \n",
       "4  05c93d4fa9bdbe70b5d2204ce9548ca9          3        1.0           24.02   \n",
       "\n",
       "   selling_price                       region_name  \n",
       "0         249.45  152f1b77a32508570e2745daf9ce7aec  \n",
       "1         118.99  152f1b77a32508570e2745daf9ce7aec  \n",
       "2           7.58  152f1b77a32508570e2745daf9ce7aec  \n",
       "3          39.99  152f1b77a32508570e2745daf9ce7aec  \n",
       "4          39.99  152f1b77a32508570e2745daf9ce7aec  "
      ]
     },
     "execution_count": 2,
     "metadata": {},
     "output_type": "execute_result"
    }
   ],
   "source": [
    "df_ch = pd.read_csv('lentahack/20210518_checks.csv')\n",
    "print(df_ch.shape)\n",
    "df_ch.head()"
   ]
  },
  {
   "cell_type": "code",
   "execution_count": 624,
   "id": "f13a9525",
   "metadata": {
    "scrolled": true
   },
   "outputs": [],
   "source": [
    "df_checks = df_ch[['sku', 'check_id']].rename(columns={'sku': 'sku_root'}).merge(\n",
    "    df_ch[['sku', 'check_id', 'selling_price']], on='check_id')\n",
    "df_checks = df_checks.merge(df_hi, on='sku')"
   ]
  },
  {
   "cell_type": "code",
   "execution_count": 625,
   "id": "256aef6e",
   "metadata": {},
   "outputs": [
    {
     "data": {
      "text/plain": [
       "(494140073, 8)"
      ]
     },
     "execution_count": 625,
     "metadata": {},
     "output_type": "execute_result"
    }
   ],
   "source": [
    "df_checks.shape"
   ]
  },
  {
   "cell_type": "code",
   "execution_count": 628,
   "id": "177501e7",
   "metadata": {},
   "outputs": [
    {
     "data": {
      "text/html": [
       "<div>\n",
       "<style scoped>\n",
       "    .dataframe tbody tr th:only-of-type {\n",
       "        vertical-align: middle;\n",
       "    }\n",
       "\n",
       "    .dataframe tbody tr th {\n",
       "        vertical-align: top;\n",
       "    }\n",
       "\n",
       "    .dataframe thead th {\n",
       "        text-align: right;\n",
       "    }\n",
       "</style>\n",
       "<table border=\"1\" class=\"dataframe\">\n",
       "  <thead>\n",
       "    <tr style=\"text-align: right;\">\n",
       "      <th></th>\n",
       "      <th>sku_root</th>\n",
       "      <th>check_id</th>\n",
       "      <th>sku</th>\n",
       "      <th>selling_price</th>\n",
       "      <th>hierarchy_level1</th>\n",
       "      <th>hierarchy_level2</th>\n",
       "      <th>hierarchy_level3</th>\n",
       "      <th>hierarchy_level4</th>\n",
       "    </tr>\n",
       "  </thead>\n",
       "  <tbody>\n",
       "    <tr>\n",
       "      <th>0</th>\n",
       "      <td>b17c870027bb4a22e3aedb971bc00def</td>\n",
       "      <td>c0b3f9c2215f924e27a6039617999c60</td>\n",
       "      <td>b17c870027bb4a22e3aedb971bc00def</td>\n",
       "      <td>249.45</td>\n",
       "      <td>44a7b825383402ed937a15fb8a5bb12a</td>\n",
       "      <td>ea5d2f1c4608232e07d3aa3d998e5135</td>\n",
       "      <td>d994e3728ba5e28defb88a3289cd7ee8</td>\n",
       "      <td>b84633d3396f28a04889d2e5a41c7b0b</td>\n",
       "    </tr>\n",
       "    <tr>\n",
       "      <th>1</th>\n",
       "      <td>b9ef00e971d0fb459a765708efba70c0</td>\n",
       "      <td>c0b3f9c2215f924e27a6039617999c60</td>\n",
       "      <td>b17c870027bb4a22e3aedb971bc00def</td>\n",
       "      <td>249.45</td>\n",
       "      <td>44a7b825383402ed937a15fb8a5bb12a</td>\n",
       "      <td>ea5d2f1c4608232e07d3aa3d998e5135</td>\n",
       "      <td>d994e3728ba5e28defb88a3289cd7ee8</td>\n",
       "      <td>b84633d3396f28a04889d2e5a41c7b0b</td>\n",
       "    </tr>\n",
       "    <tr>\n",
       "      <th>2</th>\n",
       "      <td>b75147feae4cf8ec07fb5f2cef855def</td>\n",
       "      <td>c0b3f9c2215f924e27a6039617999c60</td>\n",
       "      <td>b17c870027bb4a22e3aedb971bc00def</td>\n",
       "      <td>249.45</td>\n",
       "      <td>44a7b825383402ed937a15fb8a5bb12a</td>\n",
       "      <td>ea5d2f1c4608232e07d3aa3d998e5135</td>\n",
       "      <td>d994e3728ba5e28defb88a3289cd7ee8</td>\n",
       "      <td>b84633d3396f28a04889d2e5a41c7b0b</td>\n",
       "    </tr>\n",
       "    <tr>\n",
       "      <th>3</th>\n",
       "      <td>b25e0d42165d246d23cbf4d3efcdf583</td>\n",
       "      <td>c0b3f9c2215f924e27a6039617999c60</td>\n",
       "      <td>b17c870027bb4a22e3aedb971bc00def</td>\n",
       "      <td>249.45</td>\n",
       "      <td>44a7b825383402ed937a15fb8a5bb12a</td>\n",
       "      <td>ea5d2f1c4608232e07d3aa3d998e5135</td>\n",
       "      <td>d994e3728ba5e28defb88a3289cd7ee8</td>\n",
       "      <td>b84633d3396f28a04889d2e5a41c7b0b</td>\n",
       "    </tr>\n",
       "    <tr>\n",
       "      <th>4</th>\n",
       "      <td>a537d2eef30d47f9b11d655421ca93fb</td>\n",
       "      <td>c0b3f9c2215f924e27a6039617999c60</td>\n",
       "      <td>b17c870027bb4a22e3aedb971bc00def</td>\n",
       "      <td>249.45</td>\n",
       "      <td>44a7b825383402ed937a15fb8a5bb12a</td>\n",
       "      <td>ea5d2f1c4608232e07d3aa3d998e5135</td>\n",
       "      <td>d994e3728ba5e28defb88a3289cd7ee8</td>\n",
       "      <td>b84633d3396f28a04889d2e5a41c7b0b</td>\n",
       "    </tr>\n",
       "    <tr>\n",
       "      <th>...</th>\n",
       "      <td>...</td>\n",
       "      <td>...</td>\n",
       "      <td>...</td>\n",
       "      <td>...</td>\n",
       "      <td>...</td>\n",
       "      <td>...</td>\n",
       "      <td>...</td>\n",
       "      <td>...</td>\n",
       "    </tr>\n",
       "    <tr>\n",
       "      <th>494140068</th>\n",
       "      <td>65bb4fb91db44d08e351ea9b9a3e3798</td>\n",
       "      <td>a944250c1f48940eec80c883f8646fb9</td>\n",
       "      <td>e73a4c7a875fced77d5a265b7aa954bf</td>\n",
       "      <td>142.28</td>\n",
       "      <td>44a7b825383402ed937a15fb8a5bb12a</td>\n",
       "      <td>ea5d2f1c4608232e07d3aa3d998e5135</td>\n",
       "      <td>012d9fe15b2493f21902cd55603382ec</td>\n",
       "      <td>4af1f45499806325ccd10e1cd2f85b57</td>\n",
       "    </tr>\n",
       "    <tr>\n",
       "      <th>494140069</th>\n",
       "      <td>76ba1abdab212f78182cedb5e2bd0dec</td>\n",
       "      <td>a944250c1f48940eec80c883f8646fb9</td>\n",
       "      <td>e73a4c7a875fced77d5a265b7aa954bf</td>\n",
       "      <td>142.28</td>\n",
       "      <td>44a7b825383402ed937a15fb8a5bb12a</td>\n",
       "      <td>ea5d2f1c4608232e07d3aa3d998e5135</td>\n",
       "      <td>012d9fe15b2493f21902cd55603382ec</td>\n",
       "      <td>4af1f45499806325ccd10e1cd2f85b57</td>\n",
       "    </tr>\n",
       "    <tr>\n",
       "      <th>494140070</th>\n",
       "      <td>5bb156d705217720a8d121af2022056e</td>\n",
       "      <td>a944250c1f48940eec80c883f8646fb9</td>\n",
       "      <td>e73a4c7a875fced77d5a265b7aa954bf</td>\n",
       "      <td>142.28</td>\n",
       "      <td>44a7b825383402ed937a15fb8a5bb12a</td>\n",
       "      <td>ea5d2f1c4608232e07d3aa3d998e5135</td>\n",
       "      <td>012d9fe15b2493f21902cd55603382ec</td>\n",
       "      <td>4af1f45499806325ccd10e1cd2f85b57</td>\n",
       "    </tr>\n",
       "    <tr>\n",
       "      <th>494140071</th>\n",
       "      <td>614017c9ba0d60c8437da1d4fb20fa8c</td>\n",
       "      <td>a944250c1f48940eec80c883f8646fb9</td>\n",
       "      <td>e73a4c7a875fced77d5a265b7aa954bf</td>\n",
       "      <td>142.28</td>\n",
       "      <td>44a7b825383402ed937a15fb8a5bb12a</td>\n",
       "      <td>ea5d2f1c4608232e07d3aa3d998e5135</td>\n",
       "      <td>012d9fe15b2493f21902cd55603382ec</td>\n",
       "      <td>4af1f45499806325ccd10e1cd2f85b57</td>\n",
       "    </tr>\n",
       "    <tr>\n",
       "      <th>494140072</th>\n",
       "      <td>4267665a9606291fa3e00aa1ad6aa1b0</td>\n",
       "      <td>a944250c1f48940eec80c883f8646fb9</td>\n",
       "      <td>e73a4c7a875fced77d5a265b7aa954bf</td>\n",
       "      <td>142.28</td>\n",
       "      <td>44a7b825383402ed937a15fb8a5bb12a</td>\n",
       "      <td>ea5d2f1c4608232e07d3aa3d998e5135</td>\n",
       "      <td>012d9fe15b2493f21902cd55603382ec</td>\n",
       "      <td>4af1f45499806325ccd10e1cd2f85b57</td>\n",
       "    </tr>\n",
       "  </tbody>\n",
       "</table>\n",
       "<p>494140073 rows × 8 columns</p>\n",
       "</div>"
      ],
      "text/plain": [
       "                                   sku_root                          check_id  \\\n",
       "0          b17c870027bb4a22e3aedb971bc00def  c0b3f9c2215f924e27a6039617999c60   \n",
       "1          b9ef00e971d0fb459a765708efba70c0  c0b3f9c2215f924e27a6039617999c60   \n",
       "2          b75147feae4cf8ec07fb5f2cef855def  c0b3f9c2215f924e27a6039617999c60   \n",
       "3          b25e0d42165d246d23cbf4d3efcdf583  c0b3f9c2215f924e27a6039617999c60   \n",
       "4          a537d2eef30d47f9b11d655421ca93fb  c0b3f9c2215f924e27a6039617999c60   \n",
       "...                                     ...                               ...   \n",
       "494140068  65bb4fb91db44d08e351ea9b9a3e3798  a944250c1f48940eec80c883f8646fb9   \n",
       "494140069  76ba1abdab212f78182cedb5e2bd0dec  a944250c1f48940eec80c883f8646fb9   \n",
       "494140070  5bb156d705217720a8d121af2022056e  a944250c1f48940eec80c883f8646fb9   \n",
       "494140071  614017c9ba0d60c8437da1d4fb20fa8c  a944250c1f48940eec80c883f8646fb9   \n",
       "494140072  4267665a9606291fa3e00aa1ad6aa1b0  a944250c1f48940eec80c883f8646fb9   \n",
       "\n",
       "                                        sku  selling_price  \\\n",
       "0          b17c870027bb4a22e3aedb971bc00def  249.45          \n",
       "1          b17c870027bb4a22e3aedb971bc00def  249.45          \n",
       "2          b17c870027bb4a22e3aedb971bc00def  249.45          \n",
       "3          b17c870027bb4a22e3aedb971bc00def  249.45          \n",
       "4          b17c870027bb4a22e3aedb971bc00def  249.45          \n",
       "...                                     ...     ...          \n",
       "494140068  e73a4c7a875fced77d5a265b7aa954bf  142.28          \n",
       "494140069  e73a4c7a875fced77d5a265b7aa954bf  142.28          \n",
       "494140070  e73a4c7a875fced77d5a265b7aa954bf  142.28          \n",
       "494140071  e73a4c7a875fced77d5a265b7aa954bf  142.28          \n",
       "494140072  e73a4c7a875fced77d5a265b7aa954bf  142.28          \n",
       "\n",
       "                           hierarchy_level1                  hierarchy_level2  \\\n",
       "0          44a7b825383402ed937a15fb8a5bb12a  ea5d2f1c4608232e07d3aa3d998e5135   \n",
       "1          44a7b825383402ed937a15fb8a5bb12a  ea5d2f1c4608232e07d3aa3d998e5135   \n",
       "2          44a7b825383402ed937a15fb8a5bb12a  ea5d2f1c4608232e07d3aa3d998e5135   \n",
       "3          44a7b825383402ed937a15fb8a5bb12a  ea5d2f1c4608232e07d3aa3d998e5135   \n",
       "4          44a7b825383402ed937a15fb8a5bb12a  ea5d2f1c4608232e07d3aa3d998e5135   \n",
       "...                                     ...                               ...   \n",
       "494140068  44a7b825383402ed937a15fb8a5bb12a  ea5d2f1c4608232e07d3aa3d998e5135   \n",
       "494140069  44a7b825383402ed937a15fb8a5bb12a  ea5d2f1c4608232e07d3aa3d998e5135   \n",
       "494140070  44a7b825383402ed937a15fb8a5bb12a  ea5d2f1c4608232e07d3aa3d998e5135   \n",
       "494140071  44a7b825383402ed937a15fb8a5bb12a  ea5d2f1c4608232e07d3aa3d998e5135   \n",
       "494140072  44a7b825383402ed937a15fb8a5bb12a  ea5d2f1c4608232e07d3aa3d998e5135   \n",
       "\n",
       "                           hierarchy_level3                  hierarchy_level4  \n",
       "0          d994e3728ba5e28defb88a3289cd7ee8  b84633d3396f28a04889d2e5a41c7b0b  \n",
       "1          d994e3728ba5e28defb88a3289cd7ee8  b84633d3396f28a04889d2e5a41c7b0b  \n",
       "2          d994e3728ba5e28defb88a3289cd7ee8  b84633d3396f28a04889d2e5a41c7b0b  \n",
       "3          d994e3728ba5e28defb88a3289cd7ee8  b84633d3396f28a04889d2e5a41c7b0b  \n",
       "4          d994e3728ba5e28defb88a3289cd7ee8  b84633d3396f28a04889d2e5a41c7b0b  \n",
       "...                                     ...                               ...  \n",
       "494140068  012d9fe15b2493f21902cd55603382ec  4af1f45499806325ccd10e1cd2f85b57  \n",
       "494140069  012d9fe15b2493f21902cd55603382ec  4af1f45499806325ccd10e1cd2f85b57  \n",
       "494140070  012d9fe15b2493f21902cd55603382ec  4af1f45499806325ccd10e1cd2f85b57  \n",
       "494140071  012d9fe15b2493f21902cd55603382ec  4af1f45499806325ccd10e1cd2f85b57  \n",
       "494140072  012d9fe15b2493f21902cd55603382ec  4af1f45499806325ccd10e1cd2f85b57  \n",
       "\n",
       "[494140073 rows x 8 columns]"
      ]
     },
     "execution_count": 628,
     "metadata": {},
     "output_type": "execute_result"
    }
   ],
   "source": [
    "df_checks"
   ]
  },
  {
   "cell_type": "code",
   "execution_count": 630,
   "id": "17627b9b",
   "metadata": {},
   "outputs": [
    {
     "data": {
      "text/plain": [
       "(494140073, 4)"
      ]
     },
     "execution_count": 630,
     "metadata": {},
     "output_type": "execute_result"
    }
   ],
   "source": [
    "df_checks.shape"
   ]
  },
  {
   "cell_type": "code",
   "execution_count": 631,
   "id": "c7bc60dc",
   "metadata": {
    "scrolled": true
   },
   "outputs": [
    {
     "ename": "SpecificationError",
     "evalue": "Column(s) ['hierarchy_level1'] do not exist",
     "output_type": "error",
     "traceback": [
      "\u001b[0;31m---------------------------------------------------------------------------\u001b[0m",
      "\u001b[0;31mSpecificationError\u001b[0m                        Traceback (most recent call last)",
      "\u001b[0;32m<ipython-input-631-b2977dc667a8>\u001b[0m in \u001b[0;36m<module>\u001b[0;34m\u001b[0m\n\u001b[1;32m     10\u001b[0m         \u001b[0;32mreturn\u001b[0m \u001b[0;34m{\u001b[0m\u001b[0mk\u001b[0m\u001b[0;34m:\u001b[0m \u001b[0mv\u001b[0m \u001b[0;32mfor\u001b[0m \u001b[0mk\u001b[0m\u001b[0;34m,\u001b[0m \u001b[0mv\u001b[0m \u001b[0;32min\u001b[0m \u001b[0marr\u001b[0m\u001b[0;34m}\u001b[0m\u001b[0;34m\u001b[0m\u001b[0;34m\u001b[0m\u001b[0m\n\u001b[1;32m     11\u001b[0m \u001b[0;34m\u001b[0m\u001b[0m\n\u001b[0;32m---> 12\u001b[0;31m \u001b[0mdf_checks\u001b[0m\u001b[0;34m.\u001b[0m\u001b[0mgroupby\u001b[0m\u001b[0;34m(\u001b[0m\u001b[0;34m'sku_root'\u001b[0m\u001b[0;34m)\u001b[0m\u001b[0;34m.\u001b[0m\u001b[0magg\u001b[0m\u001b[0;34m(\u001b[0m\u001b[0;34m{\u001b[0m\u001b[0;34m'hierarchy_level1'\u001b[0m\u001b[0;34m:\u001b[0m \u001b[0mMostCommon\u001b[0m\u001b[0;34m(\u001b[0m\u001b[0;36m1\u001b[0m\u001b[0;34m)\u001b[0m\u001b[0;34m}\u001b[0m\u001b[0;34m)\u001b[0m\u001b[0;34m\u001b[0m\u001b[0;34m\u001b[0m\u001b[0m\n\u001b[0m",
      "\u001b[0;32m/anaconda/envs/py38_default/lib/python3.8/site-packages/pandas/core/groupby/generic.py\u001b[0m in \u001b[0;36maggregate\u001b[0;34m(self, func, engine, engine_kwargs, *args, **kwargs)\u001b[0m\n\u001b[1;32m    943\u001b[0m         \u001b[0mfunc\u001b[0m \u001b[0;34m=\u001b[0m \u001b[0mmaybe_mangle_lambdas\u001b[0m\u001b[0;34m(\u001b[0m\u001b[0mfunc\u001b[0m\u001b[0;34m)\u001b[0m\u001b[0;34m\u001b[0m\u001b[0;34m\u001b[0m\u001b[0m\n\u001b[1;32m    944\u001b[0m \u001b[0;34m\u001b[0m\u001b[0m\n\u001b[0;32m--> 945\u001b[0;31m         \u001b[0mresult\u001b[0m\u001b[0;34m,\u001b[0m \u001b[0mhow\u001b[0m \u001b[0;34m=\u001b[0m \u001b[0maggregate\u001b[0m\u001b[0;34m(\u001b[0m\u001b[0mself\u001b[0m\u001b[0;34m,\u001b[0m \u001b[0mfunc\u001b[0m\u001b[0;34m,\u001b[0m \u001b[0;34m*\u001b[0m\u001b[0margs\u001b[0m\u001b[0;34m,\u001b[0m \u001b[0;34m**\u001b[0m\u001b[0mkwargs\u001b[0m\u001b[0;34m)\u001b[0m\u001b[0;34m\u001b[0m\u001b[0;34m\u001b[0m\u001b[0m\n\u001b[0m\u001b[1;32m    946\u001b[0m         \u001b[0;32mif\u001b[0m \u001b[0mhow\u001b[0m \u001b[0;32mis\u001b[0m \u001b[0;32mNone\u001b[0m\u001b[0;34m:\u001b[0m\u001b[0;34m\u001b[0m\u001b[0;34m\u001b[0m\u001b[0m\n\u001b[1;32m    947\u001b[0m             \u001b[0;32mreturn\u001b[0m \u001b[0mresult\u001b[0m\u001b[0;34m\u001b[0m\u001b[0;34m\u001b[0m\u001b[0m\n",
      "\u001b[0;32m/anaconda/envs/py38_default/lib/python3.8/site-packages/pandas/core/aggregation.py\u001b[0m in \u001b[0;36maggregate\u001b[0;34m(obj, arg, *args, **kwargs)\u001b[0m\n\u001b[1;32m    580\u001b[0m     \u001b[0;32melif\u001b[0m \u001b[0mis_dict_like\u001b[0m\u001b[0;34m(\u001b[0m\u001b[0marg\u001b[0m\u001b[0;34m)\u001b[0m\u001b[0;34m:\u001b[0m\u001b[0;34m\u001b[0m\u001b[0;34m\u001b[0m\u001b[0m\n\u001b[1;32m    581\u001b[0m         \u001b[0marg\u001b[0m \u001b[0;34m=\u001b[0m \u001b[0mcast\u001b[0m\u001b[0;34m(\u001b[0m\u001b[0mAggFuncTypeDict\u001b[0m\u001b[0;34m,\u001b[0m \u001b[0marg\u001b[0m\u001b[0;34m)\u001b[0m\u001b[0;34m\u001b[0m\u001b[0;34m\u001b[0m\u001b[0m\n\u001b[0;32m--> 582\u001b[0;31m         \u001b[0;32mreturn\u001b[0m \u001b[0magg_dict_like\u001b[0m\u001b[0;34m(\u001b[0m\u001b[0mobj\u001b[0m\u001b[0;34m,\u001b[0m \u001b[0marg\u001b[0m\u001b[0;34m,\u001b[0m \u001b[0m_axis\u001b[0m\u001b[0;34m)\u001b[0m\u001b[0;34m,\u001b[0m \u001b[0;32mTrue\u001b[0m\u001b[0;34m\u001b[0m\u001b[0;34m\u001b[0m\u001b[0m\n\u001b[0m\u001b[1;32m    583\u001b[0m     \u001b[0;32melif\u001b[0m \u001b[0mis_list_like\u001b[0m\u001b[0;34m(\u001b[0m\u001b[0marg\u001b[0m\u001b[0;34m)\u001b[0m\u001b[0;34m:\u001b[0m\u001b[0;34m\u001b[0m\u001b[0;34m\u001b[0m\u001b[0m\n\u001b[1;32m    584\u001b[0m         \u001b[0;31m# we require a list, but not an 'str'\u001b[0m\u001b[0;34m\u001b[0m\u001b[0;34m\u001b[0m\u001b[0;34m\u001b[0m\u001b[0m\n",
      "\u001b[0;32m/anaconda/envs/py38_default/lib/python3.8/site-packages/pandas/core/aggregation.py\u001b[0m in \u001b[0;36magg_dict_like\u001b[0;34m(obj, arg, _axis)\u001b[0m\n\u001b[1;32m    756\u001b[0m         ) != len(keys):\n\u001b[1;32m    757\u001b[0m             \u001b[0mcols\u001b[0m \u001b[0;34m=\u001b[0m \u001b[0msorted\u001b[0m\u001b[0;34m(\u001b[0m\u001b[0mset\u001b[0m\u001b[0;34m(\u001b[0m\u001b[0mkeys\u001b[0m\u001b[0;34m)\u001b[0m \u001b[0;34m-\u001b[0m \u001b[0mset\u001b[0m\u001b[0;34m(\u001b[0m\u001b[0mselected_obj\u001b[0m\u001b[0;34m.\u001b[0m\u001b[0mcolumns\u001b[0m\u001b[0;34m.\u001b[0m\u001b[0mintersection\u001b[0m\u001b[0;34m(\u001b[0m\u001b[0mkeys\u001b[0m\u001b[0;34m)\u001b[0m\u001b[0;34m)\u001b[0m\u001b[0;34m)\u001b[0m\u001b[0;34m\u001b[0m\u001b[0;34m\u001b[0m\u001b[0m\n\u001b[0;32m--> 758\u001b[0;31m             \u001b[0;32mraise\u001b[0m \u001b[0mSpecificationError\u001b[0m\u001b[0;34m(\u001b[0m\u001b[0;34mf\"Column(s) {cols} do not exist\"\u001b[0m\u001b[0;34m)\u001b[0m\u001b[0;34m\u001b[0m\u001b[0;34m\u001b[0m\u001b[0m\n\u001b[0m\u001b[1;32m    759\u001b[0m \u001b[0;34m\u001b[0m\u001b[0m\n\u001b[1;32m    760\u001b[0m     \u001b[0;32mfrom\u001b[0m \u001b[0mpandas\u001b[0m\u001b[0;34m.\u001b[0m\u001b[0mcore\u001b[0m\u001b[0;34m.\u001b[0m\u001b[0mreshape\u001b[0m\u001b[0;34m.\u001b[0m\u001b[0mconcat\u001b[0m \u001b[0;32mimport\u001b[0m \u001b[0mconcat\u001b[0m\u001b[0;34m\u001b[0m\u001b[0;34m\u001b[0m\u001b[0m\n",
      "\u001b[0;31mSpecificationError\u001b[0m: Column(s) ['hierarchy_level1'] do not exist"
     ]
    }
   ],
   "source": [
    "df_checks = df_ch[['sku', 'check_id']].rename(columns={'sku': 'sku_root'}).merge(\n",
    "    df_ch[['sku', 'check_id', 'selling_price']], on='check_id')\n",
    "df_checks = df_checks.merge(df_hi, on='sku')\n",
    "\n",
    "class MostCommon:\n",
    "    def __init__(self, count):\n",
    "        self.count = count\n",
    "    def __call__(self, arr):\n",
    "        arr = Counter(arr).most_common(self.count)\n",
    "        return {k: v for k, v in arr}\n",
    "\n",
    "df_checks.groupby('sku_root').agg({'hierarchy_level1': MostCommon(1)})"
   ]
  },
  {
   "cell_type": "code",
   "execution_count": 88,
   "id": "21779d47",
   "metadata": {},
   "outputs": [],
   "source": [
    "df_ch['day'] = pd.to_datetime(df_ch.day, format='%Y%m%d')"
   ]
  },
  {
   "cell_type": "code",
   "execution_count": null,
   "id": "2f047ca3",
   "metadata": {},
   "outputs": [],
   "source": [
    "df_ch['is_promo'] = (df_ch.promo_id != '7215ee9c7d9dc229d2921a40e899ec5f').astype(int)\n",
    "df_ch.is_promo.value_counts()"
   ]
  },
  {
   "cell_type": "code",
   "execution_count": 21,
   "id": "e3b4446a",
   "metadata": {},
   "outputs": [
    {
     "data": {
      "text/plain": [
       "152f1b77a32508570e2745daf9ce7aec    12353882\n",
       "7e35e74e610188414ad24235dd787c78     9125377\n",
       "Name: region_name, dtype: int64"
      ]
     },
     "execution_count": 21,
     "metadata": {},
     "output_type": "execute_result"
    }
   ],
   "source": [
    "df_ch.region_name.value_counts()"
   ]
  },
  {
   "cell_type": "code",
   "execution_count": 146,
   "id": "0aec8c66",
   "metadata": {},
   "outputs": [
    {
     "data": {
      "text/plain": [
       "111"
      ]
     },
     "execution_count": 146,
     "metadata": {},
     "output_type": "execute_result"
    }
   ],
   "source": [
    "df_ch.shop_id.nunique()"
   ]
  },
  {
   "cell_type": "code",
   "execution_count": 145,
   "id": "91d75838",
   "metadata": {},
   "outputs": [
    {
     "data": {
      "text/plain": [
       "80406"
      ]
     },
     "execution_count": 145,
     "metadata": {},
     "output_type": "execute_result"
    }
   ],
   "source": [
    "df_ch.sku.nunique()"
   ]
  },
  {
   "cell_type": "code",
   "execution_count": 3,
   "id": "15e1f5bf",
   "metadata": {},
   "outputs": [
    {
     "name": "stdout",
     "output_type": "stream",
     "text": [
      "(80406, 5)\n"
     ]
    },
    {
     "data": {
      "text/html": [
       "<div>\n",
       "<style scoped>\n",
       "    .dataframe tbody tr th:only-of-type {\n",
       "        vertical-align: middle;\n",
       "    }\n",
       "\n",
       "    .dataframe tbody tr th {\n",
       "        vertical-align: top;\n",
       "    }\n",
       "\n",
       "    .dataframe thead th {\n",
       "        text-align: right;\n",
       "    }\n",
       "</style>\n",
       "<table border=\"1\" class=\"dataframe\">\n",
       "  <thead>\n",
       "    <tr style=\"text-align: right;\">\n",
       "      <th></th>\n",
       "      <th>sku</th>\n",
       "      <th>hierarchy_level1</th>\n",
       "      <th>hierarchy_level2</th>\n",
       "      <th>hierarchy_level3</th>\n",
       "      <th>hierarchy_level4</th>\n",
       "    </tr>\n",
       "  </thead>\n",
       "  <tbody>\n",
       "    <tr>\n",
       "      <th>0</th>\n",
       "      <td>29285fb39582e5a63c14026198c6ad51</td>\n",
       "      <td>44a7b825383402ed937a15fb8a5bb12a</td>\n",
       "      <td>9a1158154dfa42caddbd0694a4e9bdc8</td>\n",
       "      <td>f50c7035e532c49a0f6993d988e2e843</td>\n",
       "      <td>e9f41ed96e63ca1be6aea099625afe6f</td>\n",
       "    </tr>\n",
       "    <tr>\n",
       "      <th>1</th>\n",
       "      <td>f31d0af494b191ef2bc8395db9c8366f</td>\n",
       "      <td>44a7b825383402ed937a15fb8a5bb12a</td>\n",
       "      <td>ad61ab143223efbc24c7d2583be69251</td>\n",
       "      <td>84e8ce7870f0eecd843366582bb95a28</td>\n",
       "      <td>b7fa186535a75c869bfaece622c72689</td>\n",
       "    </tr>\n",
       "    <tr>\n",
       "      <th>2</th>\n",
       "      <td>49edad6669ba09dffbf278b76c53cd9d</td>\n",
       "      <td>cc9284597026dcc021735c0970ca0c93</td>\n",
       "      <td>1c383cd30b7c298ab50293adfecb7b18</td>\n",
       "      <td>2a3d6d6cc4b5e77238c1fc1bb6cdd681</td>\n",
       "      <td>7e0e0c1fe174b2d2efbf5ae0e2bc3ee9</td>\n",
       "    </tr>\n",
       "    <tr>\n",
       "      <th>3</th>\n",
       "      <td>c5c632eb0f93a233ef6db2620a464ea0</td>\n",
       "      <td>44a7b825383402ed937a15fb8a5bb12a</td>\n",
       "      <td>d82c8d1619ad8176d665453cfb2e55f0</td>\n",
       "      <td>b27d5296bede63b1493a5d321d4e8092</td>\n",
       "      <td>ec2acf8ebfdb679d5fc87caadd98fb58</td>\n",
       "    </tr>\n",
       "    <tr>\n",
       "      <th>4</th>\n",
       "      <td>9d0c7880f16c7748e1e992b28655c67f</td>\n",
       "      <td>cc9284597026dcc021735c0970ca0c93</td>\n",
       "      <td>6ea9ab1baa0efb9e19094440c317e21b</td>\n",
       "      <td>379a7ba015d8bf1c70b8add2c287c6fa</td>\n",
       "      <td>5aec2478fac4d1ee912c794c343d036c</td>\n",
       "    </tr>\n",
       "  </tbody>\n",
       "</table>\n",
       "</div>"
      ],
      "text/plain": [
       "                                sku                  hierarchy_level1  \\\n",
       "0  29285fb39582e5a63c14026198c6ad51  44a7b825383402ed937a15fb8a5bb12a   \n",
       "1  f31d0af494b191ef2bc8395db9c8366f  44a7b825383402ed937a15fb8a5bb12a   \n",
       "2  49edad6669ba09dffbf278b76c53cd9d  cc9284597026dcc021735c0970ca0c93   \n",
       "3  c5c632eb0f93a233ef6db2620a464ea0  44a7b825383402ed937a15fb8a5bb12a   \n",
       "4  9d0c7880f16c7748e1e992b28655c67f  cc9284597026dcc021735c0970ca0c93   \n",
       "\n",
       "                   hierarchy_level2                  hierarchy_level3  \\\n",
       "0  9a1158154dfa42caddbd0694a4e9bdc8  f50c7035e532c49a0f6993d988e2e843   \n",
       "1  ad61ab143223efbc24c7d2583be69251  84e8ce7870f0eecd843366582bb95a28   \n",
       "2  1c383cd30b7c298ab50293adfecb7b18  2a3d6d6cc4b5e77238c1fc1bb6cdd681   \n",
       "3  d82c8d1619ad8176d665453cfb2e55f0  b27d5296bede63b1493a5d321d4e8092   \n",
       "4  6ea9ab1baa0efb9e19094440c317e21b  379a7ba015d8bf1c70b8add2c287c6fa   \n",
       "\n",
       "                   hierarchy_level4  \n",
       "0  e9f41ed96e63ca1be6aea099625afe6f  \n",
       "1  b7fa186535a75c869bfaece622c72689  \n",
       "2  7e0e0c1fe174b2d2efbf5ae0e2bc3ee9  \n",
       "3  ec2acf8ebfdb679d5fc87caadd98fb58  \n",
       "4  5aec2478fac4d1ee912c794c343d036c  "
      ]
     },
     "execution_count": 3,
     "metadata": {},
     "output_type": "execute_result"
    }
   ],
   "source": [
    "df_hi = pd.read_csv('lentahack/20210518_hierarchy.csv')\n",
    "print(df_hi.shape)\n",
    "df_hi.head()"
   ]
  },
  {
   "cell_type": "code",
   "execution_count": 17,
   "id": "a5bb50bf",
   "metadata": {},
   "outputs": [
    {
     "data": {
      "text/plain": [
       "44a7b825383402ed937a15fb8a5bb12a    43439\n",
       "cc9284597026dcc021735c0970ca0c93    36967\n",
       "Name: hierarchy_level1, dtype: int64"
      ]
     },
     "execution_count": 17,
     "metadata": {},
     "output_type": "execute_result"
    }
   ],
   "source": [
    "df_hi.hierarchy_level1.value_counts()"
   ]
  },
  {
   "cell_type": "code",
   "execution_count": 20,
   "id": "220c6667",
   "metadata": {},
   "outputs": [
    {
     "data": {
      "text/plain": [
       "(65, 412, 2119)"
      ]
     },
     "execution_count": 20,
     "metadata": {},
     "output_type": "execute_result"
    }
   ],
   "source": [
    "df_hi.hierarchy_level2.nunique(), df_hi.hierarchy_level3.nunique(), df_hi.hierarchy_level4.nunique()"
   ]
  },
  {
   "cell_type": "code",
   "execution_count": 4,
   "id": "eed3d7ad",
   "metadata": {},
   "outputs": [
    {
     "name": "stdout",
     "output_type": "stream",
     "text": [
      "(740, 2)\n"
     ]
    },
    {
     "data": {
      "text/html": [
       "<div>\n",
       "<style scoped>\n",
       "    .dataframe tbody tr th:only-of-type {\n",
       "        vertical-align: middle;\n",
       "    }\n",
       "\n",
       "    .dataframe tbody tr th {\n",
       "        vertical-align: top;\n",
       "    }\n",
       "\n",
       "    .dataframe thead th {\n",
       "        text-align: right;\n",
       "    }\n",
       "</style>\n",
       "<table border=\"1\" class=\"dataframe\">\n",
       "  <thead>\n",
       "    <tr style=\"text-align: right;\">\n",
       "      <th></th>\n",
       "      <th>Offer_ID</th>\n",
       "      <th>UpLift</th>\n",
       "    </tr>\n",
       "  </thead>\n",
       "  <tbody>\n",
       "    <tr>\n",
       "      <th>0</th>\n",
       "      <td>241</td>\n",
       "      <td>1.743427</td>\n",
       "    </tr>\n",
       "    <tr>\n",
       "      <th>1</th>\n",
       "      <td>70</td>\n",
       "      <td>16.870948</td>\n",
       "    </tr>\n",
       "    <tr>\n",
       "      <th>2</th>\n",
       "      <td>342</td>\n",
       "      <td>15.185624</td>\n",
       "    </tr>\n",
       "    <tr>\n",
       "      <th>3</th>\n",
       "      <td>B33</td>\n",
       "      <td>0.921722</td>\n",
       "    </tr>\n",
       "    <tr>\n",
       "      <th>4</th>\n",
       "      <td>244</td>\n",
       "      <td>4.862729</td>\n",
       "    </tr>\n",
       "  </tbody>\n",
       "</table>\n",
       "</div>"
      ],
      "text/plain": [
       "  Offer_ID     UpLift\n",
       "0      241   1.743427\n",
       "1       70  16.870948\n",
       "2      342  15.185624\n",
       "3      B33   0.921722\n",
       "4      244   4.862729"
      ]
     },
     "execution_count": 4,
     "metadata": {},
     "output_type": "execute_result"
    }
   ],
   "source": [
    "df_up = pd.read_csv('lentahack/20210518_uplift.csv')\n",
    "print(df_up.shape)\n",
    "df_up.head()"
   ]
  },
  {
   "cell_type": "code",
   "execution_count": 5,
   "id": "cafab2cf",
   "metadata": {},
   "outputs": [
    {
     "name": "stdout",
     "output_type": "stream",
     "text": [
      "(9776, 6)\n"
     ]
    },
    {
     "data": {
      "text/html": [
       "<div>\n",
       "<style scoped>\n",
       "    .dataframe tbody tr th:only-of-type {\n",
       "        vertical-align: middle;\n",
       "    }\n",
       "\n",
       "    .dataframe tbody tr th {\n",
       "        vertical-align: top;\n",
       "    }\n",
       "\n",
       "    .dataframe thead th {\n",
       "        text-align: right;\n",
       "    }\n",
       "</style>\n",
       "<table border=\"1\" class=\"dataframe\">\n",
       "  <thead>\n",
       "    <tr style=\"text-align: right;\">\n",
       "      <th></th>\n",
       "      <th>Promo_type</th>\n",
       "      <th>Offer_ID</th>\n",
       "      <th>sku</th>\n",
       "      <th>start_date</th>\n",
       "      <th>end_date</th>\n",
       "      <th>train_test_group</th>\n",
       "    </tr>\n",
       "  </thead>\n",
       "  <tbody>\n",
       "    <tr>\n",
       "      <th>0</th>\n",
       "      <td>Facades</td>\n",
       "      <td>F26</td>\n",
       "      <td>71c770923102af052f64c6036c9dd590</td>\n",
       "      <td>20200213</td>\n",
       "      <td>20200219</td>\n",
       "      <td>train</td>\n",
       "    </tr>\n",
       "    <tr>\n",
       "      <th>1</th>\n",
       "      <td>Facades</td>\n",
       "      <td>F2</td>\n",
       "      <td>e87788b585ead792a4d40f7de18f2f76</td>\n",
       "      <td>20200102</td>\n",
       "      <td>20200108</td>\n",
       "      <td>train</td>\n",
       "    </tr>\n",
       "    <tr>\n",
       "      <th>2</th>\n",
       "      <td>Facades</td>\n",
       "      <td>F9</td>\n",
       "      <td>5ae92b5e465d630285677e80b43fe5f7</td>\n",
       "      <td>20200116</td>\n",
       "      <td>20200122</td>\n",
       "      <td>train</td>\n",
       "    </tr>\n",
       "    <tr>\n",
       "      <th>3</th>\n",
       "      <td>Facades</td>\n",
       "      <td>F45</td>\n",
       "      <td>0790b472112a765339f0e5c3f66816ee</td>\n",
       "      <td>20200319</td>\n",
       "      <td>20200325</td>\n",
       "      <td>train</td>\n",
       "    </tr>\n",
       "    <tr>\n",
       "      <th>4</th>\n",
       "      <td>Facades</td>\n",
       "      <td>F191</td>\n",
       "      <td>e87788b585ead792a4d40f7de18f2f76</td>\n",
       "      <td>20201112</td>\n",
       "      <td>20201118</td>\n",
       "      <td>test</td>\n",
       "    </tr>\n",
       "  </tbody>\n",
       "</table>\n",
       "</div>"
      ],
      "text/plain": [
       "  Promo_type Offer_ID                               sku  start_date  end_date  \\\n",
       "0    Facades      F26  71c770923102af052f64c6036c9dd590    20200213  20200219   \n",
       "1    Facades       F2  e87788b585ead792a4d40f7de18f2f76    20200102  20200108   \n",
       "2    Facades       F9  5ae92b5e465d630285677e80b43fe5f7    20200116  20200122   \n",
       "3    Facades      F45  0790b472112a765339f0e5c3f66816ee    20200319  20200325   \n",
       "4    Facades     F191  e87788b585ead792a4d40f7de18f2f76    20201112  20201118   \n",
       "\n",
       "  train_test_group  \n",
       "0            train  \n",
       "1            train  \n",
       "2            train  \n",
       "3            train  \n",
       "4             test  "
      ]
     },
     "execution_count": 5,
     "metadata": {},
     "output_type": "execute_result"
    }
   ],
   "source": [
    "df_of = pd.read_csv('lentahack/20210521_offers.csv')\n",
    "print(df_of.shape)\n",
    "df_of.head()"
   ]
  },
  {
   "cell_type": "code",
   "execution_count": 90,
   "id": "d137f171",
   "metadata": {},
   "outputs": [],
   "source": [
    "df_of['start_date'] = pd.to_datetime(df_of.start_date, format='%Y%m%d')\n",
    "df_of['end_date'] = pd.to_datetime(df_of.end_date, format='%Y%m%d')"
   ]
  },
  {
   "cell_type": "code",
   "execution_count": 96,
   "id": "2aa30c6c",
   "metadata": {},
   "outputs": [],
   "source": [
    "df_of['duration'] = df_of.apply(lambda row: row.end_date - row.start_date, axis=1)\n",
    "df_of['duration'] = df_of.duration.apply(lambda x: x.days + x.seconds / 3600 / 24)"
   ]
  },
  {
   "cell_type": "code",
   "execution_count": 14,
   "id": "76f3936f",
   "metadata": {},
   "outputs": [
    {
     "data": {
      "text/plain": [
       "(9776, 2)"
      ]
     },
     "execution_count": 14,
     "metadata": {},
     "output_type": "execute_result"
    }
   ],
   "source": [
    "df_of[['Offer_ID', 'sku']].drop_duplicates().shape"
   ]
  },
  {
   "cell_type": "code",
   "execution_count": 11,
   "id": "cc8714a8",
   "metadata": {},
   "outputs": [
    {
     "data": {
      "text/plain": [
       "4200"
      ]
     },
     "execution_count": 11,
     "metadata": {},
     "output_type": "execute_result"
    }
   ],
   "source": [
    "df_of.sku.nunique()"
   ]
  },
  {
   "cell_type": "code",
   "execution_count": 10,
   "id": "a1d333eb",
   "metadata": {},
   "outputs": [
    {
     "data": {
      "text/plain": [
       "5abc0869d756fa1c6831651776138baa    26\n",
       "33306ccd877e73c388652739869d3dc7    22\n",
       "7a8675a8f6988ebcbefd062fabaccc85    21\n",
       "c8ac520562ba934dd67cbf0f060c4252    18\n",
       "787762f7d829ce318599bf015baba175    17\n",
       "Name: sku, dtype: int64"
      ]
     },
     "execution_count": 10,
     "metadata": {},
     "output_type": "execute_result"
    }
   ],
   "source": [
    "df_of.sku.value_counts()[:5]"
   ]
  },
  {
   "cell_type": "code",
   "execution_count": 7,
   "id": "01c1578a",
   "metadata": {},
   "outputs": [
    {
     "data": {
      "text/plain": [
       "Seasonal      3455\n",
       "Biweekly      2998\n",
       "Facades       2513\n",
       "Billboards     810\n",
       "Name: Promo_type, dtype: int64"
      ]
     },
     "execution_count": 7,
     "metadata": {},
     "output_type": "execute_result"
    }
   ],
   "source": [
    "df_of.Promo_type.value_counts()"
   ]
  },
  {
   "cell_type": "code",
   "execution_count": 16,
   "id": "f319c77a",
   "metadata": {},
   "outputs": [
    {
     "data": {
      "text/plain": [
       "train    7716\n",
       "test     2060\n",
       "Name: train_test_group, dtype: int64"
      ]
     },
     "execution_count": 16,
     "metadata": {},
     "output_type": "execute_result"
    }
   ],
   "source": [
    "df_of.train_test_group.value_counts()"
   ]
  },
  {
   "cell_type": "code",
   "execution_count": 6,
   "id": "bae4ce15",
   "metadata": {},
   "outputs": [
    {
     "name": "stdout",
     "output_type": "stream",
     "text": [
      "(149, 2)\n"
     ]
    },
    {
     "data": {
      "text/html": [
       "<div>\n",
       "<style scoped>\n",
       "    .dataframe tbody tr th:only-of-type {\n",
       "        vertical-align: middle;\n",
       "    }\n",
       "\n",
       "    .dataframe tbody tr th {\n",
       "        vertical-align: top;\n",
       "    }\n",
       "\n",
       "    .dataframe thead th {\n",
       "        text-align: right;\n",
       "    }\n",
       "</style>\n",
       "<table border=\"1\" class=\"dataframe\">\n",
       "  <thead>\n",
       "    <tr style=\"text-align: right;\">\n",
       "      <th></th>\n",
       "      <th>Offer_ID</th>\n",
       "      <th>UpLift</th>\n",
       "    </tr>\n",
       "  </thead>\n",
       "  <tbody>\n",
       "    <tr>\n",
       "      <th>0</th>\n",
       "      <td>386</td>\n",
       "      <td>0</td>\n",
       "    </tr>\n",
       "    <tr>\n",
       "      <th>1</th>\n",
       "      <td>182</td>\n",
       "      <td>0</td>\n",
       "    </tr>\n",
       "    <tr>\n",
       "      <th>2</th>\n",
       "      <td>173</td>\n",
       "      <td>0</td>\n",
       "    </tr>\n",
       "    <tr>\n",
       "      <th>3</th>\n",
       "      <td>375</td>\n",
       "      <td>0</td>\n",
       "    </tr>\n",
       "    <tr>\n",
       "      <th>4</th>\n",
       "      <td>379</td>\n",
       "      <td>0</td>\n",
       "    </tr>\n",
       "  </tbody>\n",
       "</table>\n",
       "</div>"
      ],
      "text/plain": [
       "  Offer_ID  UpLift\n",
       "0      386       0\n",
       "1      182       0\n",
       "2      173       0\n",
       "3      375       0\n",
       "4      379       0"
      ]
     },
     "execution_count": 6,
     "metadata": {},
     "output_type": "execute_result"
    }
   ],
   "source": [
    "df_sa = pd.read_csv('lentahack/20210521_sample_submission.csv')\n",
    "print(df_sa.shape)\n",
    "df_sa.head()"
   ]
  },
  {
   "cell_type": "code",
   "execution_count": 245,
   "id": "5d65b73b",
   "metadata": {
    "scrolled": true
   },
   "outputs": [
    {
     "data": {
      "text/plain": [
       "(7716, 8)"
      ]
     },
     "execution_count": 245,
     "metadata": {},
     "output_type": "execute_result"
    }
   ],
   "source": [
    "df_ofup = df_of.merge(df_up, on='Offer_ID')\n",
    "#df_ofup.groupby('Offer_ID').agg({'sku': 'count'})\n",
    "#dummies = pd.get_dummies(df_ofup.sku)\n",
    "#df_ofup = pd.concat([df_ofup, dummies], axis=1)\n",
    "df_ofup.shape"
   ]
  },
  {
   "cell_type": "code",
   "execution_count": 130,
   "id": "e94c7d0f",
   "metadata": {},
   "outputs": [
    {
     "data": {
      "text/plain": [
       "Index(['33306ccd877e73c388652739869d3dc7', '5abc0869d756fa1c6831651776138baa',\n",
       "       '7a8675a8f6988ebcbefd062fabaccc85', '787762f7d829ce318599bf015baba175',\n",
       "       'c8ac520562ba934dd67cbf0f060c4252', '911d7361089a37c2a6488a548b4f06a8',\n",
       "       'ce414dc56ab84ef9ef6c00da08747cad', '290765c709b1efb039791a793e5bac01',\n",
       "       '8ce96f975fabfd21c938034b4e33ef38', '77f07f6168e3f1fdf22caed73164eb49',\n",
       "       ...\n",
       "       'eb86c8433b0998695da6beba131f7311', 'ebae2dec1bcb8b456f983d0747b8db2d',\n",
       "       'f2ba68b41937ff806cb677999682458a', '98d6b2963231045201b56d96ece261bf',\n",
       "       'f9fae7ac76c13b2e49d1264003d0a87d', '4d2a56420489953ed5b76a38c7bccd28',\n",
       "       '00104b38b0b48f14e6b94c294a91356b', '7eb3077272fd22f863050961b096195e',\n",
       "       '1526b93698c8de388d8ce349631af2bb', '296bfe0ebf5b24ea027856dc240c8985'],\n",
       "      dtype='object', length=969)"
      ]
     },
     "execution_count": 130,
     "metadata": {},
     "output_type": "execute_result"
    }
   ],
   "source": [
    "df_ofup.sku.value_counts()[df_ofup.sku.value_counts() >= 3].index"
   ]
  },
  {
   "cell_type": "code",
   "execution_count": 131,
   "id": "ed42f539",
   "metadata": {
    "scrolled": false
   },
   "outputs": [
    {
     "name": "stderr",
     "output_type": "stream",
     "text": [
      "/anaconda/envs/py38_default/lib/python3.8/site-packages/seaborn/distributions.py:2557: FutureWarning: `distplot` is a deprecated function and will be removed in a future version. Please adapt your code to use either `displot` (a figure-level function with similar flexibility) or `histplot` (an axes-level function for histograms).\n",
      "  warnings.warn(msg, FutureWarning)\n"
     ]
    },
    {
     "data": {
      "image/png": "[encoded data removed]",
      "text/plain": [
       "<Figure size 864x504 with 1 Axes>"
      ]
     },
     "metadata": {
      "needs_background": "light"
     },
     "output_type": "display_data"
    }
   ],
   "source": [
    "df_sku = df_ofup[df_ofup.sku.isin(df_ofup.sku.value_counts()[df_ofup.sku.value_counts() >= 3].index.to_list())][['sku', 'UpLift']].groupby('sku').mean()\n",
    "df_sku = df_sku.sort_values('UpLift', ascending=False)\n",
    "sns.distplot(df_sku.UpLift);"
   ]
  },
  {
   "cell_type": "code",
   "execution_count": 158,
   "id": "c3543e0e",
   "metadata": {},
   "outputs": [
    {
     "name": "stderr",
     "output_type": "stream",
     "text": [
      "/anaconda/envs/py38_default/lib/python3.8/site-packages/seaborn/_decorators.py:36: FutureWarning: Pass the following variable as a keyword arg: x. From version 0.12, the only valid positional argument will be `data`, and passing other arguments without an explicit keyword will result in an error or misinterpretation.\n",
      "  warnings.warn(\n"
     ]
    },
    {
     "data": {
      "image/png": "[encoded data removed]",
      "text/plain": [
       "<Figure size 864x504 with 1 Axes>"
      ]
     },
     "metadata": {
      "needs_background": "light"
     },
     "output_type": "display_data"
    }
   ],
   "source": [
    "sns.countplot(df_of.sku.value_counts());"
   ]
  },
  {
   "cell_type": "code",
   "execution_count": 140,
   "id": "d78ef36c",
   "metadata": {
    "scrolled": true
   },
   "outputs": [],
   "source": [
    "df_sku = df_ofup.groupby(['Offer_ID', 'UpLift', 'Promo_type']).agg({'sku': list}).reset_index()\n",
    "df_sku['sku'] = df_sku.sku.apply(lambda x: tuple(sorted(x)))\n",
    "df_sku = df_sku.groupby(['sku', 'Promo_type']).agg({'UpLift': 'mean', 'Offer_ID': 'count'}).reset_index()\n",
    "#df_sku.sort_values('UpLift', ascending=False)"
   ]
  },
  {
   "cell_type": "code",
   "execution_count": 142,
   "id": "551c25fc",
   "metadata": {},
   "outputs": [
    {
     "data": {
      "image/png": "[encoded data removed]",
      "text/plain": [
       "<Figure size 864x504 with 1 Axes>"
      ]
     },
     "metadata": {
      "needs_background": "light"
     },
     "output_type": "display_data"
    }
   ],
   "source": [
    "sns.countplot(\n",
    "    data=df_sku,\n",
    "    x='Promo_type',\n",
    "    hue='Offer_ID'\n",
    ");"
   ]
  },
  {
   "cell_type": "code",
   "execution_count": 143,
   "id": "1c08ea61",
   "metadata": {},
   "outputs": [
    {
     "data": {
      "text/html": [
       "<div>\n",
       "<style scoped>\n",
       "    .dataframe tbody tr th:only-of-type {\n",
       "        vertical-align: middle;\n",
       "    }\n",
       "\n",
       "    .dataframe tbody tr th {\n",
       "        vertical-align: top;\n",
       "    }\n",
       "\n",
       "    .dataframe thead th {\n",
       "        text-align: right;\n",
       "    }\n",
       "</style>\n",
       "<table border=\"1\" class=\"dataframe\">\n",
       "  <thead>\n",
       "    <tr style=\"text-align: right;\">\n",
       "      <th></th>\n",
       "      <th>duration</th>\n",
       "      <th>UpLift</th>\n",
       "    </tr>\n",
       "    <tr>\n",
       "      <th>Promo_type</th>\n",
       "      <th></th>\n",
       "      <th></th>\n",
       "    </tr>\n",
       "  </thead>\n",
       "  <tbody>\n",
       "    <tr>\n",
       "      <th>Billboards</th>\n",
       "      <td>10.997080</td>\n",
       "      <td>3.620010</td>\n",
       "    </tr>\n",
       "    <tr>\n",
       "      <th>Biweekly</th>\n",
       "      <td>13.472682</td>\n",
       "      <td>5.561029</td>\n",
       "    </tr>\n",
       "    <tr>\n",
       "      <th>Facades</th>\n",
       "      <td>6.000000</td>\n",
       "      <td>2.630749</td>\n",
       "    </tr>\n",
       "    <tr>\n",
       "      <th>Seasonal</th>\n",
       "      <td>17.733487</td>\n",
       "      <td>3.708450</td>\n",
       "    </tr>\n",
       "  </tbody>\n",
       "</table>\n",
       "</div>"
      ],
      "text/plain": [
       "             duration    UpLift\n",
       "Promo_type                     \n",
       "Billboards  10.997080  3.620010\n",
       "Biweekly    13.472682  5.561029\n",
       "Facades     6.000000   2.630749\n",
       "Seasonal    17.733487  3.708450"
      ]
     },
     "execution_count": 143,
     "metadata": {},
     "output_type": "execute_result"
    }
   ],
   "source": [
    "df_ofup.groupby('Promo_type').mean()"
   ]
  },
  {
   "cell_type": "code",
   "execution_count": 144,
   "id": "ab715434",
   "metadata": {},
   "outputs": [
    {
     "data": {
      "image/png": "[encoded data removed]",
      "text/plain": [
       "<Figure size 864x504 with 1 Axes>"
      ]
     },
     "metadata": {
      "needs_background": "light"
     },
     "output_type": "display_data"
    }
   ],
   "source": [
    "df_plot = df_sku.groupby(['Offer_ID', 'Promo_type']).mean().reset_index()\n",
    "\n",
    "sns.scatterplot(\n",
    "    data=df_plot,\n",
    "    x='Offer_ID',\n",
    "    y='UpLift',\n",
    "    hue='Promo_type'\n",
    ");\n",
    "\n",
    "sns.lineplot(\n",
    "    data=df_plot,\n",
    "    x='Offer_ID',\n",
    "    y='UpLift',\n",
    "    hue='Promo_type',\n",
    "    legend=False\n",
    ");"
   ]
  },
  {
   "cell_type": "code",
   "execution_count": 132,
   "id": "f9feaccb",
   "metadata": {},
   "outputs": [
    {
     "data": {
      "image/png": "[encoded data removed]",
      "text/plain": [
       "<Figure size 864x504 with 1 Axes>"
      ]
     },
     "metadata": {
      "needs_background": "light"
     },
     "output_type": "display_data"
    }
   ],
   "source": [
    "sns.countplot(\n",
    "    data=df_ofup, \n",
    "    x='Promo_type',\n",
    "    hue='duration'\n",
    ");"
   ]
  },
  {
   "cell_type": "code",
   "execution_count": 118,
   "id": "dc114fbe",
   "metadata": {},
   "outputs": [
    {
     "data": {
      "image/png": "[encoded data removed]",
      "text/plain": [
       "<Figure size 864x504 with 1 Axes>"
      ]
     },
     "metadata": {
      "needs_background": "light"
     },
     "output_type": "display_data"
    }
   ],
   "source": [
    "df_plot = df_ofup.groupby(['duration', 'Promo_type']).mean().reset_index()\n",
    "\n",
    "sns.scatterplot(\n",
    "    data=df_plot,\n",
    "    x='duration',\n",
    "    y='UpLift',\n",
    "    hue='Promo_type'\n",
    ");\n",
    "\n",
    "sns.lineplot(\n",
    "    data=df_plot,\n",
    "    x='duration',\n",
    "    y='UpLift',\n",
    "    hue='Promo_type',\n",
    "    legend=False\n",
    ");"
   ]
  },
  {
   "cell_type": "code",
   "execution_count": null,
   "id": "8261065a",
   "metadata": {},
   "outputs": [],
   "source": []
  },
  {
   "cell_type": "code",
   "execution_count": null,
   "id": "93812927",
   "metadata": {},
   "outputs": [],
   "source": []
  },
  {
   "cell_type": "markdown",
   "id": "4f1c89d2",
   "metadata": {},
   "source": [
    "## Data Preprocessing"
   ]
  },
  {
   "cell_type": "code",
   "execution_count": 153,
   "id": "cdebeb2a",
   "metadata": {},
   "outputs": [
    {
     "data": {
      "text/plain": [
       "Timestamp('2019-09-24 00:00:00')"
      ]
     },
     "execution_count": 153,
     "metadata": {},
     "output_type": "execute_result"
    }
   ],
   "source": [
    "df_of.start_date.min()"
   ]
  },
  {
   "cell_type": "code",
   "execution_count": 159,
   "id": "4bd6e46f",
   "metadata": {},
   "outputs": [
    {
     "name": "stderr",
     "output_type": "stream",
     "text": [
      "100%|██████████| 21479259/21479259 [02:42<00:00, 132434.52it/s]\n"
     ]
    }
   ],
   "source": [
    "df_ch['weekday'] = df_ch.day.progress_apply(lambda x: x.strftime('%A'))"
   ]
  },
  {
   "cell_type": "code",
   "execution_count": 167,
   "id": "5095dab3",
   "metadata": {},
   "outputs": [],
   "source": [
    "df_ch['time'] = pd.to_timedelta(df_ch.time)"
   ]
  },
  {
   "cell_type": "code",
   "execution_count": 182,
   "id": "1f660d63",
   "metadata": {},
   "outputs": [
    {
     "name": "stderr",
     "output_type": "stream",
     "text": [
      "100%|██████████| 21479259/21479259 [03:22<00:00, 106121.77it/s]\n"
     ]
    }
   ],
   "source": [
    "def part_of_day(time):\n",
    "    out = None\n",
    "    if time >= dt.timedelta(hours=0) and time <= dt.timedelta(hours=6): out = 'night'\n",
    "    elif time >= dt.timedelta(hours=6) and time <= dt.timedelta(hours=12): out = 'morning'\n",
    "    elif time >= dt.timedelta(hours=12) and time <= dt.timedelta(hours=18): out = 'day'\n",
    "    elif time >= dt.timedelta(hours=18) and time <= dt.timedelta(hours=24): out = 'evening'\n",
    "        \n",
    "    return out\n",
    "\n",
    "def part_of_day(time):\n",
    "    out = None\n",
    "    hours = time.days * 24 + time.seconds/3600\n",
    "    if hours >= 0 and hours < 6: out = 'night'\n",
    "    elif hours >= 6 and hours < 12: out = 'morning'\n",
    "    elif hours >= 12 and hours < 18: out = 'day'\n",
    "    elif hours >= 18 and hours <= 24: out = 'evening'\n",
    "        \n",
    "    return out\n",
    "\n",
    "df_ch['part_of_day'] = df_ch.time.progress_apply(part_of_day)"
   ]
  },
  {
   "cell_type": "code",
   "execution_count": 459,
   "id": "3373a713",
   "metadata": {},
   "outputs": [
    {
     "data": {
      "text/plain": [
       "3.03963275955"
      ]
     },
     "execution_count": 459,
     "metadata": {},
     "output_type": "execute_result"
    }
   ],
   "source": [
    "df_up.UpLift.median()"
   ]
  },
  {
   "cell_type": "code",
   "execution_count": 183,
   "id": "3f9e2ae8",
   "metadata": {
    "scrolled": true
   },
   "outputs": [
    {
     "data": {
      "text/plain": [
       "day        10321187\n",
       "evening    7851278 \n",
       "morning    2878310 \n",
       "night      428484  \n",
       "Name: part_of_day, dtype: int64"
      ]
     },
     "execution_count": 183,
     "metadata": {},
     "output_type": "execute_result"
    }
   ],
   "source": [
    "df_ch.part_of_day.value_counts()"
   ]
  },
  {
   "cell_type": "code",
   "execution_count": 479,
   "id": "1caef5c2",
   "metadata": {},
   "outputs": [
    {
     "data": {
      "text/html": [
       "<div>\n",
       "<style scoped>\n",
       "    .dataframe tbody tr th:only-of-type {\n",
       "        vertical-align: middle;\n",
       "    }\n",
       "\n",
       "    .dataframe tbody tr th {\n",
       "        vertical-align: top;\n",
       "    }\n",
       "\n",
       "    .dataframe thead th {\n",
       "        text-align: right;\n",
       "    }\n",
       "</style>\n",
       "<table border=\"1\" class=\"dataframe\">\n",
       "  <thead>\n",
       "    <tr style=\"text-align: right;\">\n",
       "      <th></th>\n",
       "      <th>client_id</th>\n",
       "      <th>day</th>\n",
       "      <th>shop_id</th>\n",
       "      <th>check_id</th>\n",
       "      <th>time</th>\n",
       "      <th>sku</th>\n",
       "      <th>promo_id</th>\n",
       "      <th>check_pos</th>\n",
       "      <th>num_sales</th>\n",
       "      <th>supplier_price</th>\n",
       "      <th>selling_price</th>\n",
       "      <th>region_name</th>\n",
       "      <th>weekday</th>\n",
       "      <th>part_of_day</th>\n",
       "      <th>is_promo</th>\n",
       "      <th>Promo_type</th>\n",
       "      <th>Offer_ID</th>\n",
       "      <th>start_date</th>\n",
       "      <th>end_date</th>\n",
       "      <th>train_test_group</th>\n",
       "      <th>duration</th>\n",
       "      <th>UpLift</th>\n",
       "    </tr>\n",
       "  </thead>\n",
       "  <tbody>\n",
       "  </tbody>\n",
       "</table>\n",
       "</div>"
      ],
      "text/plain": [
       "Empty DataFrame\n",
       "Columns: [client_id, day, shop_id, check_id, time, sku, promo_id, check_pos, num_sales, supplier_price, selling_price, region_name, weekday, part_of_day, is_promo, Promo_type, Offer_ID, start_date, end_date, train_test_group, duration, UpLift]\n",
       "Index: []"
      ]
     },
     "execution_count": 479,
     "metadata": {},
     "output_type": "execute_result"
    }
   ],
   "source": [
    "df_ch.merge(df_ofup[df_ofup.train_test_group == 'test'], on='sku')"
   ]
  },
  {
   "cell_type": "code",
   "execution_count": 959,
   "id": "cbd4de10",
   "metadata": {},
   "outputs": [
    {
     "data": {
      "text/html": [
       "<div>\n",
       "<style scoped>\n",
       "    .dataframe tbody tr th:only-of-type {\n",
       "        vertical-align: middle;\n",
       "    }\n",
       "\n",
       "    .dataframe tbody tr th {\n",
       "        vertical-align: top;\n",
       "    }\n",
       "\n",
       "    .dataframe thead tr th {\n",
       "        text-align: left;\n",
       "    }\n",
       "\n",
       "    .dataframe thead tr:last-of-type th {\n",
       "        text-align: right;\n",
       "    }\n",
       "</style>\n",
       "<table border=\"1\" class=\"dataframe\">\n",
       "  <thead>\n",
       "    <tr>\n",
       "      <th></th>\n",
       "      <th colspan=\"3\" halign=\"left\">selling_price</th>\n",
       "      <th colspan=\"3\" halign=\"left\">num_sales</th>\n",
       "    </tr>\n",
       "    <tr>\n",
       "      <th></th>\n",
       "      <th>min</th>\n",
       "      <th>mean</th>\n",
       "      <th>max</th>\n",
       "      <th>min</th>\n",
       "      <th>mean</th>\n",
       "      <th>max</th>\n",
       "    </tr>\n",
       "    <tr>\n",
       "      <th>sku_root</th>\n",
       "      <th></th>\n",
       "      <th></th>\n",
       "      <th></th>\n",
       "      <th></th>\n",
       "      <th></th>\n",
       "      <th></th>\n",
       "    </tr>\n",
       "  </thead>\n",
       "  <tbody>\n",
       "    <tr>\n",
       "      <th>00033dd12618c86f7451b1e18af8bb60</th>\n",
       "      <td>229.00</td>\n",
       "      <td>1977.180000</td>\n",
       "      <td>6489.0</td>\n",
       "      <td>1.0</td>\n",
       "      <td>19.665720</td>\n",
       "      <td>120.0000</td>\n",
       "    </tr>\n",
       "    <tr>\n",
       "      <th>00104b38b0b48f14e6b94c294a91356b</th>\n",
       "      <td>12.99</td>\n",
       "      <td>3074.967414</td>\n",
       "      <td>40701.0</td>\n",
       "      <td>1.0</td>\n",
       "      <td>35.710734</td>\n",
       "      <td>295.0020</td>\n",
       "    </tr>\n",
       "    <tr>\n",
       "      <th>00218695e83d28a79151ef327e51200c</th>\n",
       "      <td>159.00</td>\n",
       "      <td>3419.949153</td>\n",
       "      <td>35096.0</td>\n",
       "      <td>1.0</td>\n",
       "      <td>35.150093</td>\n",
       "      <td>314.3080</td>\n",
       "    </tr>\n",
       "    <tr>\n",
       "      <th>00432d021eca6059fee2ed69a732c2b2</th>\n",
       "      <td>13.00</td>\n",
       "      <td>3375.811940</td>\n",
       "      <td>29077.0</td>\n",
       "      <td>1.0</td>\n",
       "      <td>37.841898</td>\n",
       "      <td>277.6525</td>\n",
       "    </tr>\n",
       "    <tr>\n",
       "      <th>00581113943ffd4c16964dd1b545044f</th>\n",
       "      <td>86.00</td>\n",
       "      <td>2632.295285</td>\n",
       "      <td>16530.0</td>\n",
       "      <td>1.0</td>\n",
       "      <td>34.118983</td>\n",
       "      <td>230.8440</td>\n",
       "    </tr>\n",
       "    <tr>\n",
       "      <th>...</th>\n",
       "      <td>...</td>\n",
       "      <td>...</td>\n",
       "      <td>...</td>\n",
       "      <td>...</td>\n",
       "      <td>...</td>\n",
       "      <td>...</td>\n",
       "    </tr>\n",
       "    <tr>\n",
       "      <th>ff6806b34403247f7d2429b9dac2eff3</th>\n",
       "      <td>70.00</td>\n",
       "      <td>3026.395711</td>\n",
       "      <td>26271.0</td>\n",
       "      <td>1.0</td>\n",
       "      <td>35.238288</td>\n",
       "      <td>232.2280</td>\n",
       "    </tr>\n",
       "    <tr>\n",
       "      <th>ff9bf520af5f68d957aa193977ec8b85</th>\n",
       "      <td>190.00</td>\n",
       "      <td>3449.457627</td>\n",
       "      <td>16708.0</td>\n",
       "      <td>3.0</td>\n",
       "      <td>38.316576</td>\n",
       "      <td>157.5880</td>\n",
       "    </tr>\n",
       "    <tr>\n",
       "      <th>ffb361905f5828922df2edcc7d50d3b8</th>\n",
       "      <td>799.00</td>\n",
       "      <td>4576.155440</td>\n",
       "      <td>17584.0</td>\n",
       "      <td>1.0</td>\n",
       "      <td>32.773430</td>\n",
       "      <td>159.0000</td>\n",
       "    </tr>\n",
       "    <tr>\n",
       "      <th>ffd28420812333369041b2434a483ee8</th>\n",
       "      <td>3.00</td>\n",
       "      <td>2518.402124</td>\n",
       "      <td>34748.0</td>\n",
       "      <td>1.0</td>\n",
       "      <td>31.363342</td>\n",
       "      <td>431.3600</td>\n",
       "    </tr>\n",
       "    <tr>\n",
       "      <th>ffea752b2c9ed2fd6c6777532daccd61</th>\n",
       "      <td>16.00</td>\n",
       "      <td>3061.803704</td>\n",
       "      <td>14433.0</td>\n",
       "      <td>2.0</td>\n",
       "      <td>37.764344</td>\n",
       "      <td>197.0000</td>\n",
       "    </tr>\n",
       "  </tbody>\n",
       "</table>\n",
       "<p>3197 rows × 6 columns</p>\n",
       "</div>"
      ],
      "text/plain": [
       "                                 selling_price                        \\\n",
       "                                           min         mean      max   \n",
       "sku_root                                                               \n",
       "00033dd12618c86f7451b1e18af8bb60  229.00        1977.180000  6489.0    \n",
       "00104b38b0b48f14e6b94c294a91356b  12.99         3074.967414  40701.0   \n",
       "00218695e83d28a79151ef327e51200c  159.00        3419.949153  35096.0   \n",
       "00432d021eca6059fee2ed69a732c2b2  13.00         3375.811940  29077.0   \n",
       "00581113943ffd4c16964dd1b545044f  86.00         2632.295285  16530.0   \n",
       "...                                  ...                ...      ...   \n",
       "ff6806b34403247f7d2429b9dac2eff3  70.00         3026.395711  26271.0   \n",
       "ff9bf520af5f68d957aa193977ec8b85  190.00        3449.457627  16708.0   \n",
       "ffb361905f5828922df2edcc7d50d3b8  799.00        4576.155440  17584.0   \n",
       "ffd28420812333369041b2434a483ee8  3.00          2518.402124  34748.0   \n",
       "ffea752b2c9ed2fd6c6777532daccd61  16.00         3061.803704  14433.0   \n",
       "\n",
       "                                 num_sales                       \n",
       "                                       min       mean       max  \n",
       "sku_root                                                         \n",
       "00033dd12618c86f7451b1e18af8bb60  1.0       19.665720  120.0000  \n",
       "00104b38b0b48f14e6b94c294a91356b  1.0       35.710734  295.0020  \n",
       "00218695e83d28a79151ef327e51200c  1.0       35.150093  314.3080  \n",
       "00432d021eca6059fee2ed69a732c2b2  1.0       37.841898  277.6525  \n",
       "00581113943ffd4c16964dd1b545044f  1.0       34.118983  230.8440  \n",
       "...                               ...             ...       ...  \n",
       "ff6806b34403247f7d2429b9dac2eff3  1.0       35.238288  232.2280  \n",
       "ff9bf520af5f68d957aa193977ec8b85  3.0       38.316576  157.5880  \n",
       "ffb361905f5828922df2edcc7d50d3b8  1.0       32.773430  159.0000  \n",
       "ffd28420812333369041b2434a483ee8  1.0       31.363342  431.3600  \n",
       "ffea752b2c9ed2fd6c6777532daccd61  2.0       37.764344  197.0000  \n",
       "\n",
       "[3197 rows x 6 columns]"
      ]
     },
     "execution_count": 959,
     "metadata": {},
     "output_type": "execute_result"
    }
   ],
   "source": [
    "df_checks = df_ch[df_ch.sku.isin(df_agg.sku.unique())][['sku', 'check_id']].rename(columns={'sku': 'sku_root'}).merge(\n",
    "    df_ch[['sku', 'check_id', 'selling_price', 'num_sales']], on='check_id')\n",
    "\n",
    "class MostCommon:\n",
    "    def __init__(self, count):\n",
    "        self.count = count\n",
    "    def __call__(self, arr):\n",
    "        arr = Counter(arr).most_common(self.count)\n",
    "        return {k: v for k, v in arr}\n",
    "\n",
    "aggdict = {\n",
    "    'selling_price': 'sum',\n",
    "    'num_sales': 'sum',\n",
    "}\n",
    "df_counts = df_checks.groupby(['sku_root', 'check_id']).agg(aggdict).reset_index().reset_index()\n",
    "aggdict = {\n",
    "    'selling_price': ['min', 'mean', 'max'],\n",
    "    'num_sales': ['min', 'mean', 'max'],\n",
    "}\n",
    "df_counts = df_counts.groupby('sku_root').agg(aggdict).rename(columns={'sku_root': 'sku'})\n",
    "df_counts"
   ]
  },
  {
   "cell_type": "code",
   "execution_count": 1095,
   "id": "e4d91c60",
   "metadata": {},
   "outputs": [],
   "source": [
    "def process_dataset(df_ofup, df_ch, df_of, test=False):\n",
    "    delta = {\n",
    "        'low': dt.timedelta(days=180),\n",
    "        'up': dt.timedelta(days=90)\n",
    "    }\n",
    "\n",
    "    if test:\n",
    "        df_ofup = df_of[df_of.train_test_group == 'test']\n",
    "    df = df_ch.merge(df_ofup, on='sku')\n",
    "    df = df[(df.start_date - delta['low'] <= df.day) & (df.end_date - delta['up'] >= df.day)]\n",
    "    \n",
    "    df['is_promo'] = (df.promo_id != '7215ee9c7d9dc229d2921a40e899ec5f').astype(int)\n",
    "    df['supplier_price_unit'] = df.supplier_price / df.num_sales\n",
    "    df['selling_price_unit'] = df.selling_price / df.num_sales\n",
    "        \n",
    "    def list2col_share(arr):\n",
    "        values = dict(Counter(arr))\n",
    "        sum_values = sum(values.values())\n",
    "        values = {k: v / sum_values for k, v in values.items()}\n",
    "\n",
    "        return values\n",
    "    \n",
    "    def list2col_count(arr):\n",
    "        values = dict(Counter(arr))\n",
    "        sum_values = sum(values.values())\n",
    "        values = {k: v / sum_values for k, v in values.items()}\n",
    "\n",
    "        return values\n",
    "\n",
    "    aggdict = {\n",
    "        'check_pos': ['min', 'mean', 'max'],\n",
    "        'num_sales': ['mean', 'max'],\n",
    "        'supplier_price': 'sum',\n",
    "        'selling_price': 'sum',\n",
    "        'supplier_price_unit': ['min', 'mean', 'max'],\n",
    "        'selling_price_unit': ['min', 'mean', 'max'],\n",
    "        'is_promo': ['mean', 'sum', 'std'],\n",
    "        'shop_id': [list2col_share, list2col_count],\n",
    "        'weekday': [list2col_share, list2col_count],\n",
    "        'part_of_day': [list2col_share, list2col_count],\n",
    "        'region_name': [list2col_share, list2col_count],\n",
    "    }\n",
    "\n",
    "    group_cols = ['sku', 'Offer_ID', 'Promo_type', 'start_date', 'end_date', 'train_test_group', 'duration']\n",
    "    if not test:\n",
    "        group_cols.append('UpLift')\n",
    "    df_agg = df.groupby(group_cols).agg(aggdict).reset_index()\n",
    "    \n",
    "    df_agg.columns = ['_'.join(col).strip() for col in df_agg.columns.values]\n",
    "    df_agg.columns = [col if col[-1] != '_' else col[:-1] for col in df_agg.columns]\n",
    "\n",
    "    df_checks = df_ch.merge(df_ofup, on='sku')\n",
    "    df_checks = df_checks[(df_checks.start_date - delta['low'] <= df_checks.day) & (df_checks.end_date - delta['up'] >= df_checks.day)]\n",
    "    #df_checks = df_ch[df_ch.sku.isin(df_agg.sku.unique())][['sku', 'check_id']].rename(columns={'sku': 'sku_root'}).merge(\n",
    "    #    df_ch[['sku', 'check_id', 'selling_price', 'num_sales']], on='check_id')\n",
    "    df_checks = df_checks[['sku', 'check_id', 'start_date', 'end_date']].rename(columns={'sku': 'sku_root'}).merge(\n",
    "        df_ch[['sku', 'check_id', 'selling_price', 'num_sales', 'day']], on='check_id')\n",
    "    df_checks = df_checks[(df_checks.start_date - delta['low'] <= df_checks.day) & (df_checks.end_date - delta['up'] >= df_checks.day)]\n",
    "    df_checks = df_checks[['sku_root', 'sku', 'check_id', 'selling_price', 'num_sales']].drop_duplicates()\n",
    "    \n",
    "    aggdict = {\n",
    "        'selling_price': 'sum',\n",
    "        'num_sales': 'sum',\n",
    "    }\n",
    "    df_counts = df_checks.groupby(['sku_root', 'check_id']).agg(aggdict).reset_index()\n",
    "    df_counts = df_counts.rename(columns={'selling_price': 'check_selling_price', 'num_sales': 'check_num_sales'})\n",
    "    aggdict = {\n",
    "        'check_selling_price': ['min', 'mean', 'max', 'std'],\n",
    "        'check_num_sales': ['min', 'mean', 'max', 'std'],\n",
    "    }\n",
    "    df_counts = df_counts.groupby('sku_root').agg(aggdict).reset_index().rename(columns={'sku_root': 'sku'})\n",
    "    df_counts.columns = ['_'.join(col).strip()  if col != 'sku' else 'sku' for col in df_counts.columns.values]\n",
    "    df_counts.columns = [col if col[-1] != '_' else col[:-1] for col in df_counts.columns]\n",
    "    \n",
    "    df_checks = df_checks.merge(df_hi, on='sku')\n",
    "    df_checks['hierarchy_level1'] = df_checks.hierarchy_level1 + '_purch1'\n",
    "    df_checks['hierarchy_level2'] = df_checks.hierarchy_level2 + '_purch2'\n",
    "\n",
    "    class MostCommon:\n",
    "        def __init__(self, count):\n",
    "            self.count = count\n",
    "        def __call__(self, arr):\n",
    "            arr = Counter(arr).most_common(self.count)\n",
    "            return {k: v for k, v in arr}\n",
    "\n",
    "    aggdict = {\n",
    "        'hierarchy_level1': MostCommon(1),\n",
    "        'hierarchy_level2': MostCommon(5),\n",
    "    }\n",
    "    df_checks = df_checks.groupby('sku_root').agg(aggdict).reset_index().rename(columns={'sku_root': 'sku'})\n",
    "    df_agg = df_agg.merge(df_checks, on='sku', how='left')\n",
    "    df_agg = df_agg.merge(df_counts, on='sku', how='left')\n",
    "    \n",
    "    df = df_agg.copy()\n",
    "    \n",
    "    shop_id = set([col for cols in df_agg.shop_id_list2col_share.apply(lambda x: list(x.keys())) for col in cols])\n",
    "\n",
    "    for row in tqdm(df.itertuples(), total=len(df)):\n",
    "        shop_id_list2col_share = row.shop_id_list2col_share\n",
    "        shop_id_list2col_count = row.shop_id_list2col_count\n",
    "        for col in shop_id:\n",
    "            if col in shop_id_list2col_share:\n",
    "                df.at[row.Index, col + '_share'] = shop_id_list2col_share[col]\n",
    "                df.at[row.Index, col + '_count'] = shop_id_list2col_count[col]\n",
    "    \n",
    "    weekday = set([col for cols in df_agg.weekday_list2col_share.apply(lambda x: list(x.keys())) for col in cols])\n",
    "\n",
    "    for row in tqdm(df.itertuples(), total=len(df)):\n",
    "        weekday_list2col_share = row.weekday_list2col_share\n",
    "        weekday_list2col_count = row.weekday_list2col_count\n",
    "        for col in weekday:\n",
    "            if col in weekday_list2col_share:\n",
    "                df.at[row.Index, col + '_share'] = weekday_list2col_share[col]\n",
    "                df.at[row.Index, col + '_count'] = weekday_list2col_count[col]\n",
    "                \n",
    "    part_of_day = set([col for cols in df_agg.part_of_day_list2col_share.apply(lambda x: list(x.keys())) for col in cols])\n",
    "\n",
    "    for row in tqdm(df.itertuples(), total=len(df)):\n",
    "        part_of_day_list2col_share = row.part_of_day_list2col_share\n",
    "        part_of_day_list2col_count = row.part_of_day_list2col_count\n",
    "        for col in part_of_day:\n",
    "            if col in part_of_day_list2col_share:\n",
    "                df.at[row.Index, col + '_share'] = part_of_day_list2col_share[col]\n",
    "                df.at[row.Index, col + '_count'] = part_of_day_list2col_count[col]\n",
    "                \n",
    "    region_name = set([col for cols in df_agg.region_name_list2col_share.apply(lambda x: list(x.keys())) for col in cols])\n",
    "\n",
    "    for row in tqdm(df.itertuples(), total=len(df)):\n",
    "        region_name_list2col_share = row.region_name_list2col_share\n",
    "        region_name_list2col_count = row.region_name_list2col_count\n",
    "        for col in region_name:\n",
    "            if col in region_name_list2col_share:\n",
    "                df.at[row.Index, col + '_share'] = region_name_list2col_share[col]\n",
    "                df.at[row.Index, col + '_count'] = region_name_list2col_count[col]\n",
    "\n",
    "    hierarchy_level1 = set([col for cols in df_agg.hierarchy_level1.apply(lambda x: list(x.keys())) for col in cols])\n",
    "\n",
    "    for row in tqdm(df.itertuples(), total=len(df)):\n",
    "        hierarchy_level1 = row.hierarchy_level1\n",
    "        for col in hierarchy_level1:\n",
    "            if col in hierarchy_level1:\n",
    "                df.at[row.Index, col] = hierarchy_level1[col]\n",
    "\n",
    "    hierarchy_level2 = set([col for cols in df_agg.hierarchy_level2.apply(lambda x: list(x.keys())) for col in cols])\n",
    "\n",
    "    for row in tqdm(df.itertuples(), total=len(df)):\n",
    "        hierarchy_level2 = row.hierarchy_level2\n",
    "        for col in hierarchy_level2:\n",
    "            if col in hierarchy_level2:\n",
    "                df.at[row.Index, col] = hierarchy_level2[col]\n",
    "                \n",
    "    \n",
    "    del df['hierarchy_level1'], df['hierarchy_level2']\n",
    "    \n",
    "    df_conn = df_of[['sku', 'Offer_ID']].rename(columns={'sku': 'sku_root'}).merge(\n",
    "        df_of[['sku', 'Offer_ID']], on='Offer_ID')\n",
    "    \n",
    "    df_conn = df_conn.merge(df_hi, on='sku')\n",
    "    aggdict = {\n",
    "        'hierarchy_level1': MostCommon(1),\n",
    "        'hierarchy_level2': MostCommon(1),\n",
    "    }\n",
    "    df_conn = df_conn.groupby(['Offer_ID', 'sku_root']).agg(aggdict).reset_index().rename(columns={'sku_root': 'sku'})\n",
    "    df = df.merge(df_conn, on=['Offer_ID', 'sku'])\n",
    "    \n",
    "    hierarchy_level1 = set([col for cols in df_agg.hierarchy_level1.apply(lambda x: list(x.keys())) for col in cols])\n",
    "\n",
    "    for row in tqdm(df.itertuples(), total=len(df)):\n",
    "        hierarchy_level1 = row.hierarchy_level1\n",
    "        for col in hierarchy_level1:\n",
    "            if col in hierarchy_level1:\n",
    "                df.at[row.Index, col] = hierarchy_level1[col]\n",
    "\n",
    "    hierarchy_level2 = set([col for cols in df_agg.hierarchy_level2.apply(lambda x: list(x.keys())) for col in cols])\n",
    "\n",
    "    for row in tqdm(df.itertuples(), total=len(df)):\n",
    "        hierarchy_level2 = row.hierarchy_level2\n",
    "        for col in hierarchy_level2:\n",
    "            if col in hierarchy_level2:\n",
    "                df.at[row.Index, col] = hierarchy_level2[col]\n",
    "    \n",
    "    \n",
    "    months = [i for i in range(1, 12+1)]\n",
    "\n",
    "    for idx, row in df.iterrows():\n",
    "        months_deq = deque(months)\n",
    "        min_month = row.start_date.month\n",
    "        max_month = row.end_date.month\n",
    "        while months_deq[0] != min_month:\n",
    "            months_deq.rotate(1)\n",
    "\n",
    "        duration_months = list(months_deq)[0: months_deq.index(max_month)+1]\n",
    "        for m in duration_months:\n",
    "            df.at[idx, f'month_{m}'] = 1\n",
    "\n",
    "    holidays = [\n",
    "        dt.date(2020, 1, 1),\n",
    "        dt.date(2020, 1, 7),\n",
    "        dt.date(2020, 2, 23),\n",
    "        dt.date(2020, 3, 8),\n",
    "        dt.date(2020, 5, 1),\n",
    "        dt.date(2020, 5, 9),\n",
    "        dt.date(2020, 6, 12)\n",
    "    ]\n",
    "\n",
    "    for idx, row in df.iterrows():\n",
    "        for h in holidays:\n",
    "            if h >= row.start_date and h <= row.end_date:\n",
    "                df.at[idx, f'holiday_{h}'] = 1\n",
    "    \n",
    "    df = df.merge(\n",
    "        df_of.groupby('Offer_ID').agg({'sku': 'count'}).reset_index().rename(columns={'sku': 'sku_count'}),\n",
    "        on='Offer_ID'\n",
    "    )\n",
    "    df.fillna(0., inplace=True)\n",
    "    return df"
   ]
  },
  {
   "cell_type": "code",
   "execution_count": 1096,
   "id": "085879de",
   "metadata": {},
   "outputs": [
    {
     "name": "stderr",
     "output_type": "stream",
     "text": [
      "100%|██████████| 2014/2014 [00:02<00:00, 960.47it/s] \n",
      "100%|██████████| 2014/2014 [00:00<00:00, 6460.03it/s]\n",
      "100%|██████████| 2014/2014 [00:00<00:00, 9743.68it/s]\n",
      "100%|██████████| 2014/2014 [00:00<00:00, 13728.95it/s]\n",
      "100%|██████████| 2014/2014 [00:00<00:00, 21659.82it/s]\n",
      "100%|██████████| 2014/2014 [00:00<00:00, 8890.56it/s]\n",
      "100%|██████████| 2014/2014 [00:00<00:00, 19263.66it/s]\n",
      "100%|██████████| 2014/2014 [00:00<00:00, 14263.06it/s]\n"
     ]
    }
   ],
   "source": [
    "df_test = process_dataset(df_ofup, df_ch, df_of, test=True)"
   ]
  },
  {
   "cell_type": "code",
   "execution_count": 1098,
   "id": "5f930c81",
   "metadata": {},
   "outputs": [
    {
     "data": {
      "text/plain": [
       "(2014, 373)"
      ]
     },
     "execution_count": 1098,
     "metadata": {},
     "output_type": "execute_result"
    }
   ],
   "source": [
    "df_test.shape"
   ]
  },
  {
   "cell_type": "code",
   "execution_count": 1101,
   "id": "a6ca9cd9",
   "metadata": {
    "scrolled": true
   },
   "outputs": [
    {
     "name": "stderr",
     "output_type": "stream",
     "text": [
      "100%|██████████| 5556/5556 [00:05<00:00, 944.33it/s] \n",
      "100%|██████████| 5556/5556 [00:00<00:00, 6585.00it/s]\n",
      "100%|██████████| 5556/5556 [00:00<00:00, 9914.95it/s] \n",
      "100%|██████████| 5556/5556 [00:00<00:00, 13715.16it/s]\n",
      "100%|██████████| 5556/5556 [00:00<00:00, 20858.63it/s]\n",
      "100%|██████████| 5556/5556 [00:00<00:00, 10014.05it/s]\n",
      "100%|██████████| 5556/5556 [00:00<00:00, 18105.39it/s]\n",
      "100%|██████████| 5556/5556 [00:00<00:00, 15089.36it/s]\n"
     ]
    },
    {
     "name": "stdout",
     "output_type": "stream",
     "text": [
      "CPU times: user 3min 8s, sys: 24.5 s, total: 3min 32s\n",
      "Wall time: 3min 32s\n"
     ]
    }
   ],
   "source": [
    "%%time\n",
    "df = process_dataset(df_ofup, df_ch, df_of, test=False)"
   ]
  },
  {
   "cell_type": "code",
   "execution_count": 1102,
   "id": "b3c3dd97",
   "metadata": {},
   "outputs": [
    {
     "data": {
      "text/plain": [
       "((2014, 414), (5556, 414))"
      ]
     },
     "execution_count": 1102,
     "metadata": {},
     "output_type": "execute_result"
    }
   ],
   "source": [
    "for col in df.columns:\n",
    "    if col not in df_test.columns:\n",
    "        df_test[col] = 0.\n",
    "        \n",
    "df_test = df_test[df.columns]\n",
    "df_test.shape, df.shape"
   ]
  },
  {
   "cell_type": "code",
   "execution_count": null,
   "id": "4f0e54c8",
   "metadata": {},
   "outputs": [],
   "source": []
  },
  {
   "cell_type": "code",
   "execution_count": null,
   "id": "64a30f0d",
   "metadata": {},
   "outputs": [],
   "source": []
  },
  {
   "cell_type": "markdown",
   "id": "54b72ba2",
   "metadata": {},
   "source": [
    "## Training"
   ]
  },
  {
   "cell_type": "code",
   "execution_count": 1103,
   "id": "295e8d1d",
   "metadata": {},
   "outputs": [],
   "source": [
    "useless_cols = [\n",
    "    'start_date',\n",
    "    'end_date',\n",
    "    'Offer_ID',\n",
    "    'sku',\n",
    "    'train_test_group',\n",
    "    'shop_id_list2col_share',\n",
    "    'weekday_list2col_share',\n",
    "    'part_of_day_list2col_share',\n",
    "    'region_name_list2col_share',\n",
    "    'shop_id_list2col_count',\n",
    "    'weekday_list2col_count',\n",
    "    'part_of_day_list2col_count',\n",
    "    'region_name_list2col_count',\n",
    "    'hierarchy_level1',\n",
    "    'hierarchy_level2'\n",
    "]\n",
    "\n",
    "cat_cols = [\n",
    "    'Promo_type',\n",
    "]"
   ]
  },
  {
   "cell_type": "code",
   "execution_count": 766,
   "id": "3fd95416",
   "metadata": {
    "scrolled": true
   },
   "outputs": [
    {
     "data": {
      "text/plain": [
       "(2014, 390)"
      ]
     },
     "execution_count": 766,
     "metadata": {},
     "output_type": "execute_result"
    }
   ],
   "source": [
    "df_test[df_test.train_test_group == 'test'].shape"
   ]
  },
  {
   "cell_type": "code",
   "execution_count": 767,
   "id": "19585e42",
   "metadata": {},
   "outputs": [
    {
     "data": {
      "text/plain": [
       "train    7716\n",
       "test     2060\n",
       "Name: train_test_group, dtype: int64"
      ]
     },
     "execution_count": 767,
     "metadata": {},
     "output_type": "execute_result"
    }
   ],
   "source": [
    "df_of.train_test_group.value_counts()"
   ]
  },
  {
   "cell_type": "code",
   "execution_count": 1104,
   "id": "6818c40e",
   "metadata": {},
   "outputs": [],
   "source": [
    "def prepare_dataset(df, test=False):\n",
    "    if not test:\n",
    "        data = df[df.train_test_group == 'train']\n",
    "    else:\n",
    "        data = df[df.train_test_group == 'test']\n",
    "    np.random.seed(8)\n",
    "    data = data.sample(frac=1)\n",
    "    \n",
    "    data = data[[col for col in data.columns if col not in useless_cols]]\n",
    "\n",
    "    dummies = pd.get_dummies(data.Promo_type)\n",
    "    data = pd.concat([data, dummies], axis=1)\n",
    "    \n",
    "    del data['Promo_type']\n",
    "    if test:\n",
    "        del data['UpLift']\n",
    "\n",
    "    return data"
   ]
  },
  {
   "cell_type": "code",
   "execution_count": 1105,
   "id": "6ac26fa8",
   "metadata": {},
   "outputs": [],
   "source": [
    "data = prepare_dataset(df)"
   ]
  },
  {
   "cell_type": "code",
   "execution_count": 1106,
   "id": "11d6b262",
   "metadata": {},
   "outputs": [
    {
     "data": {
      "text/plain": [
       "(5556, 402)"
      ]
     },
     "execution_count": 1106,
     "metadata": {},
     "output_type": "execute_result"
    }
   ],
   "source": [
    "data.shape"
   ]
  },
  {
   "cell_type": "code",
   "execution_count": 1107,
   "id": "9836618f",
   "metadata": {},
   "outputs": [
    {
     "data": {
      "text/plain": [
       "(5556, 238)"
      ]
     },
     "execution_count": 1107,
     "metadata": {},
     "output_type": "execute_result"
    }
   ],
   "source": [
    "for col in data.columns:\n",
    "    if ('_share' in col) and data[col].mean() < 0.01:\n",
    "        del data[col]\n",
    "        del data[col[:-6] + '_count']\n",
    "    elif col in data.columns and data[col].sum() < 10:\n",
    "        del data[col]\n",
    "        \n",
    "data.shape"
   ]
  },
  {
   "cell_type": "code",
   "execution_count": 1108,
   "id": "7d4b4323",
   "metadata": {},
   "outputs": [],
   "source": [
    "fix_cols = [\n",
    "    'check_pos_min',\n",
    "    'check_pos_mean',\n",
    "    'check_pos_max',\n",
    "    'num_sales_mean',\n",
    "    'num_sales_max',\n",
    "    'supplier_price_sum',\n",
    "    'selling_price_sum',\n",
    "    'supplier_price_unit_min',\n",
    "    'supplier_price_unit_mean',\n",
    "    'selling_price_unit_max',\n",
    "    'is_promo_mean',\n",
    "    'is_promo_sum',\n",
    "    'sku_count',\n",
    "    'Billboards',\n",
    "    'Biweekly',\n",
    "    'Facades',\n",
    "    'Seasonal',\n",
    "    'UpLift'\n",
    "] + [col for col in data.columns if 'month_' in col or 'holiday_' in col]"
   ]
  },
  {
   "cell_type": "code",
   "execution_count": 422,
   "id": "8758e3fd",
   "metadata": {},
   "outputs": [],
   "source": [
    "data.to_csv('dataset_uplift.csv')"
   ]
  },
  {
   "cell_type": "code",
   "execution_count": 995,
   "id": "7bc97515",
   "metadata": {
    "collapsed": true
   },
   "outputs": [
    {
     "ename": "KeyError",
     "evalue": "\"['198f9e9f064617952401a90cfbff7461_share', 'month_11', '87277281b55376d0231ad94f63e4a7eb_share', 'c0279f73075a52e1a7dea35065bc8c80_share', '0cf0613553f1dd3f98b4009b31c52618_share', 'f90a337271004d00cbd620a61844401a_share', '2a34e8685490c86e180af62f6f0f4f87_share', '6c8349cc7260ae62e3b1396831a8398f', 'e90b327c1ceca11f1a44a8bcf58af34c_share', '84f7b02a8128f5f5775611244c24b941_share', 'b94d71e6bc4cc21ffbaaef5e4aca6f03_share', 'd25922edb7ab92c0ca31328cbdcbd42f_share', '898dc2c947cee718e4afd7dfcb2f1a09_share', '5bbac39cd13478e3c41463540d032c22_share', '9061198a99f995e44314503d643e49a8_share', '17e62166fc8586dfa4d1bc0e1742c08b', 'c20ad4d76fe97759aa27a0c99bff6710', '6cb9669ff7bbb140212081ccb0f68543_share', 'd2ddea18f00665ce8623e36bd4e3c7c5', '89befd1102aeaead24cfe2b9fa9997f9_share', '6f4922f45568161a8cdf4ad2299f6d23', 'b26747fc8cb2170baa866b315cf58b7c_share', '4ee7da9a70026f945c33f970f6c2228a_share', '2b7f8457c72458d71a5b2b4380972519_share', '25bbdcd06c32d477f7fa1c3e4a91b032_share', '087c8abfaee44ebbf0c2871976a2ab18_share', 'cc9284597026dcc021735c0970ca0c93', 'f0f4b6598f2cee45644673998b4f44be_share', 'be30a998b7393750806a3058d926469f_share', 'd04feef70623eaf7167f9172da8650db_share', '03afdbd66e7929b125f8597834fa83a4', 'ad61ab143223efbc24c7d2583be69251', 'a9b2b0ce7799c4de9c7a3aed9ebeddeb_share', '44a7b825383402ed937a15fb8a5bb12a', 'f865c5e07958ad70ef989e905390f6d0_share', '7d7c45b9a935cf9d845fc75679a41559_share', '612b9796c617960a4e9abe05845c3d43_share', '7f39f8317fbdb1988ef4c628eba02591', '5db5ae42bae950401219b2da9c583331_share', 'bda8f8645db921d24845639f76635574_share', '7dd5071ff43138f6756e30f4b271c4ac_share', '9a1158154dfa42caddbd0694a4e9bdc8', '1640f59af9fc45f93a72652de254d387_share', 'a1d0c6e83f027327d8461063f4ac58a6', 'a5aad544b38a088b35b395645efe0d61_share', 'b6fb522815d06fed82b0140be4c74680_share', 'f9d3742964e8d35a46da512cf46fbeb3_share', 'd1aa0137612fb8dd48d20f02aa9c3196_share', 'd2ac32e14d651b9ed03f26f845a11597_share', '19a6a0b9360519fe82b5b06b3f79d62c_share', '2f8639feef43f2964be0cee184dad78c_share', '8566418f640c84b79671a915d659087d_share', '182be0c5cdcd5072bb1864cdee4d3d6e', '6a2095bc178dbb0ba00e8fd5f10306b2_share', 'fcd04e26e900e94b9ed6dd604fed2b64_share', 'f7177163c833dff4b38fc8d2872f1ec6', '3ab586f9ea0a8e5f3f1109a4862476a5_share', 'e3a958df39563a3bc9cbc53fc79dee52_share', '07aeb18febbdbf77511a10fd4aa49942_share', 'b03a75fccca587a511170aa5b7952210_share', '147768d3955e38c4e662c0a95d807abc_share', '73cc1f9b54baa5917ae240b96c832690_share', 'c51ce410c124a10e0db5e4b97fc2af39', '33e75ff09dd601bbe69f351039152189', 'c88a45cebe37ef31231604ff583105be_share', '6364d3f0f495b6ab9dcf8d3b5c6e0b01', 'c3f484315c27d75d5449e9e0963949da_share', '4f1ac1f615a1c3414134c2d3ae9a3f58_share', '37693cfc748049e45d87b8c7d8b9aacd', '19ca14e7ea6328a42e0eb13d585e4c22', '0c82a0ea628e0ec608d70d1db9d822d9_share', 'ecee596a242de13b779391cdaa2c528d_share', 'd645920e395fedad7bbbed0eca3fe2e0', '755e9e9053939dbd61e36d0d32a7e646_share', '3a1e655328599b6a1208115f2271c942_share', 'ed5fc9493b475813203e1c2497a11f6f_share', 'd82c8d1619ad8176d665453cfb2e55f0', 'e6fb2f85705dfa295a82233013ab335b_share', 'eb62f6b9306db575c2d596b1279627a4_share', 'c16a5320fa475530d9583c34fd356ef5', 'a3363a6147d5ccb2bbd06d1fa3c7f276_share', 'd972dc8564e175effccbcb3e402650eb_share', 'a8d48ed01e06015083c360366501e726_share', 'dad2fd502d209b12ac27f451b0b9c17e_share', 'fbc01d515dac182ba3524a3b11fdf4b2_share', 'd67d8ab4f4c10bf22aa353e27879133c', '6ea9ab1baa0efb9e19094440c317e21b', 'b0f07fe0f7de991bfca0de50391eb328_share', '2838023a778dfaecdc212708f721b788', '1ff1de774005f8da13f42943881c655f', 'a5bfc9e07964f8dddeb95fc584cd965d', 'c22b7285b63e1d6f09a10dc258858d48_share', '5072ec0261a35740089ed41e844e51eb_share', '0e0b24fc303d2b384be5a2464654a5d2_share', 'e960bd3154493f20a5a54c28f5686d4e_share', '1c383cd30b7c298ab50293adfecb7b18', 'b705667936f5d49b801c56aa43bed5ea_share', '4721dc6a803c213861d569b31f3c121f_share', 'd9f5e405a7f74ed652a8f0b31a87f636_share', '94b02d7d3f29b972b34c169cfa68120d_share', 'ab1048060528a978a536ee2e9538de28_share', '857778a20b9a41d4ca0d687a36e4bfa8_share'] not in index\"",
     "output_type": "error",
     "traceback": [
      "\u001b[0;31m---------------------------------------------------------------------------\u001b[0m",
      "\u001b[0;31mKeyError\u001b[0m                                  Traceback (most recent call last)",
      "\u001b[0;32m<ipython-input-995-4d4ef35a4d49>\u001b[0m in \u001b[0;36m<module>\u001b[0;34m\u001b[0m\n\u001b[0;32m----> 1\u001b[0;31m \u001b[0mdata\u001b[0m \u001b[0;34m=\u001b[0m \u001b[0mdata\u001b[0m\u001b[0;34m[\u001b[0m\u001b[0mfix_cols\u001b[0m \u001b[0;34m+\u001b[0m \u001b[0;34m[\u001b[0m\u001b[0mcol\u001b[0m \u001b[0;32mfor\u001b[0m \u001b[0mcol\u001b[0m \u001b[0;32min\u001b[0m \u001b[0mbest_features\u001b[0m\u001b[0;34m[\u001b[0m\u001b[0;34m:\u001b[0m\u001b[0;36m200\u001b[0m\u001b[0;34m]\u001b[0m \u001b[0;32mif\u001b[0m \u001b[0mcol\u001b[0m \u001b[0;32mnot\u001b[0m \u001b[0;32min\u001b[0m \u001b[0mfix_cols\u001b[0m\u001b[0;34m]\u001b[0m\u001b[0;34m]\u001b[0m\u001b[0;34m\u001b[0m\u001b[0;34m\u001b[0m\u001b[0m\n\u001b[0m\u001b[1;32m      2\u001b[0m \u001b[0mdata\u001b[0m\u001b[0;34m.\u001b[0m\u001b[0mshape\u001b[0m\u001b[0;34m\u001b[0m\u001b[0;34m\u001b[0m\u001b[0m\n",
      "\u001b[0;32m/anaconda/envs/py38_default/lib/python3.8/site-packages/pandas/core/frame.py\u001b[0m in \u001b[0;36m__getitem__\u001b[0;34m(self, key)\u001b[0m\n\u001b[1;32m   3028\u001b[0m             \u001b[0;32mif\u001b[0m \u001b[0mis_iterator\u001b[0m\u001b[0;34m(\u001b[0m\u001b[0mkey\u001b[0m\u001b[0;34m)\u001b[0m\u001b[0;34m:\u001b[0m\u001b[0;34m\u001b[0m\u001b[0;34m\u001b[0m\u001b[0m\n\u001b[1;32m   3029\u001b[0m                 \u001b[0mkey\u001b[0m \u001b[0;34m=\u001b[0m \u001b[0mlist\u001b[0m\u001b[0;34m(\u001b[0m\u001b[0mkey\u001b[0m\u001b[0;34m)\u001b[0m\u001b[0;34m\u001b[0m\u001b[0;34m\u001b[0m\u001b[0m\n\u001b[0;32m-> 3030\u001b[0;31m             \u001b[0mindexer\u001b[0m \u001b[0;34m=\u001b[0m \u001b[0mself\u001b[0m\u001b[0;34m.\u001b[0m\u001b[0mloc\u001b[0m\u001b[0;34m.\u001b[0m\u001b[0m_get_listlike_indexer\u001b[0m\u001b[0;34m(\u001b[0m\u001b[0mkey\u001b[0m\u001b[0;34m,\u001b[0m \u001b[0maxis\u001b[0m\u001b[0;34m=\u001b[0m\u001b[0;36m1\u001b[0m\u001b[0;34m,\u001b[0m \u001b[0mraise_missing\u001b[0m\u001b[0;34m=\u001b[0m\u001b[0;32mTrue\u001b[0m\u001b[0;34m)\u001b[0m\u001b[0;34m[\u001b[0m\u001b[0;36m1\u001b[0m\u001b[0;34m]\u001b[0m\u001b[0;34m\u001b[0m\u001b[0;34m\u001b[0m\u001b[0m\n\u001b[0m\u001b[1;32m   3031\u001b[0m \u001b[0;34m\u001b[0m\u001b[0m\n\u001b[1;32m   3032\u001b[0m         \u001b[0;31m# take() does not accept boolean indexers\u001b[0m\u001b[0;34m\u001b[0m\u001b[0;34m\u001b[0m\u001b[0;34m\u001b[0m\u001b[0m\n",
      "\u001b[0;32m/anaconda/envs/py38_default/lib/python3.8/site-packages/pandas/core/indexing.py\u001b[0m in \u001b[0;36m_get_listlike_indexer\u001b[0;34m(self, key, axis, raise_missing)\u001b[0m\n\u001b[1;32m   1264\u001b[0m             \u001b[0mkeyarr\u001b[0m\u001b[0;34m,\u001b[0m \u001b[0mindexer\u001b[0m\u001b[0;34m,\u001b[0m \u001b[0mnew_indexer\u001b[0m \u001b[0;34m=\u001b[0m \u001b[0max\u001b[0m\u001b[0;34m.\u001b[0m\u001b[0m_reindex_non_unique\u001b[0m\u001b[0;34m(\u001b[0m\u001b[0mkeyarr\u001b[0m\u001b[0;34m)\u001b[0m\u001b[0;34m\u001b[0m\u001b[0;34m\u001b[0m\u001b[0m\n\u001b[1;32m   1265\u001b[0m \u001b[0;34m\u001b[0m\u001b[0m\n\u001b[0;32m-> 1266\u001b[0;31m         \u001b[0mself\u001b[0m\u001b[0;34m.\u001b[0m\u001b[0m_validate_read_indexer\u001b[0m\u001b[0;34m(\u001b[0m\u001b[0mkeyarr\u001b[0m\u001b[0;34m,\u001b[0m \u001b[0mindexer\u001b[0m\u001b[0;34m,\u001b[0m \u001b[0maxis\u001b[0m\u001b[0;34m,\u001b[0m \u001b[0mraise_missing\u001b[0m\u001b[0;34m=\u001b[0m\u001b[0mraise_missing\u001b[0m\u001b[0;34m)\u001b[0m\u001b[0;34m\u001b[0m\u001b[0;34m\u001b[0m\u001b[0m\n\u001b[0m\u001b[1;32m   1267\u001b[0m         \u001b[0;32mreturn\u001b[0m \u001b[0mkeyarr\u001b[0m\u001b[0;34m,\u001b[0m \u001b[0mindexer\u001b[0m\u001b[0;34m\u001b[0m\u001b[0;34m\u001b[0m\u001b[0m\n\u001b[1;32m   1268\u001b[0m \u001b[0;34m\u001b[0m\u001b[0m\n",
      "\u001b[0;32m/anaconda/envs/py38_default/lib/python3.8/site-packages/pandas/core/indexing.py\u001b[0m in \u001b[0;36m_validate_read_indexer\u001b[0;34m(self, key, indexer, axis, raise_missing)\u001b[0m\n\u001b[1;32m   1314\u001b[0m             \u001b[0;32mif\u001b[0m \u001b[0mraise_missing\u001b[0m\u001b[0;34m:\u001b[0m\u001b[0;34m\u001b[0m\u001b[0;34m\u001b[0m\u001b[0m\n\u001b[1;32m   1315\u001b[0m                 \u001b[0mnot_found\u001b[0m \u001b[0;34m=\u001b[0m \u001b[0mlist\u001b[0m\u001b[0;34m(\u001b[0m\u001b[0mset\u001b[0m\u001b[0;34m(\u001b[0m\u001b[0mkey\u001b[0m\u001b[0;34m)\u001b[0m \u001b[0;34m-\u001b[0m \u001b[0mset\u001b[0m\u001b[0;34m(\u001b[0m\u001b[0max\u001b[0m\u001b[0;34m)\u001b[0m\u001b[0;34m)\u001b[0m\u001b[0;34m\u001b[0m\u001b[0;34m\u001b[0m\u001b[0m\n\u001b[0;32m-> 1316\u001b[0;31m                 \u001b[0;32mraise\u001b[0m \u001b[0mKeyError\u001b[0m\u001b[0;34m(\u001b[0m\u001b[0;34mf\"{not_found} not in index\"\u001b[0m\u001b[0;34m)\u001b[0m\u001b[0;34m\u001b[0m\u001b[0;34m\u001b[0m\u001b[0m\n\u001b[0m\u001b[1;32m   1317\u001b[0m \u001b[0;34m\u001b[0m\u001b[0m\n\u001b[1;32m   1318\u001b[0m             \u001b[0mnot_found\u001b[0m \u001b[0;34m=\u001b[0m \u001b[0mkey\u001b[0m\u001b[0;34m[\u001b[0m\u001b[0mmissing_mask\u001b[0m\u001b[0;34m]\u001b[0m\u001b[0;34m\u001b[0m\u001b[0;34m\u001b[0m\u001b[0m\n",
      "\u001b[0;31mKeyError\u001b[0m: \"['198f9e9f064617952401a90cfbff7461_share', 'month_11', '87277281b55376d0231ad94f63e4a7eb_share', 'c0279f73075a52e1a7dea35065bc8c80_share', '0cf0613553f1dd3f98b4009b31c52618_share', 'f90a337271004d00cbd620a61844401a_share', '2a34e8685490c86e180af62f6f0f4f87_share', '6c8349cc7260ae62e3b1396831a8398f', 'e90b327c1ceca11f1a44a8bcf58af34c_share', '84f7b02a8128f5f5775611244c24b941_share', 'b94d71e6bc4cc21ffbaaef5e4aca6f03_share', 'd25922edb7ab92c0ca31328cbdcbd42f_share', '898dc2c947cee718e4afd7dfcb2f1a09_share', '5bbac39cd13478e3c41463540d032c22_share', '9061198a99f995e44314503d643e49a8_share', '17e62166fc8586dfa4d1bc0e1742c08b', 'c20ad4d76fe97759aa27a0c99bff6710', '6cb9669ff7bbb140212081ccb0f68543_share', 'd2ddea18f00665ce8623e36bd4e3c7c5', '89befd1102aeaead24cfe2b9fa9997f9_share', '6f4922f45568161a8cdf4ad2299f6d23', 'b26747fc8cb2170baa866b315cf58b7c_share', '4ee7da9a70026f945c33f970f6c2228a_share', '2b7f8457c72458d71a5b2b4380972519_share', '25bbdcd06c32d477f7fa1c3e4a91b032_share', '087c8abfaee44ebbf0c2871976a2ab18_share', 'cc9284597026dcc021735c0970ca0c93', 'f0f4b6598f2cee45644673998b4f44be_share', 'be30a998b7393750806a3058d926469f_share', 'd04feef70623eaf7167f9172da8650db_share', '03afdbd66e7929b125f8597834fa83a4', 'ad61ab143223efbc24c7d2583be69251', 'a9b2b0ce7799c4de9c7a3aed9ebeddeb_share', '44a7b825383402ed937a15fb8a5bb12a', 'f865c5e07958ad70ef989e905390f6d0_share', '7d7c45b9a935cf9d845fc75679a41559_share', '612b9796c617960a4e9abe05845c3d43_share', '7f39f8317fbdb1988ef4c628eba02591', '5db5ae42bae950401219b2da9c583331_share', 'bda8f8645db921d24845639f76635574_share', '7dd5071ff43138f6756e30f4b271c4ac_share', '9a1158154dfa42caddbd0694a4e9bdc8', '1640f59af9fc45f93a72652de254d387_share', 'a1d0c6e83f027327d8461063f4ac58a6', 'a5aad544b38a088b35b395645efe0d61_share', 'b6fb522815d06fed82b0140be4c74680_share', 'f9d3742964e8d35a46da512cf46fbeb3_share', 'd1aa0137612fb8dd48d20f02aa9c3196_share', 'd2ac32e14d651b9ed03f26f845a11597_share', '19a6a0b9360519fe82b5b06b3f79d62c_share', '2f8639feef43f2964be0cee184dad78c_share', '8566418f640c84b79671a915d659087d_share', '182be0c5cdcd5072bb1864cdee4d3d6e', '6a2095bc178dbb0ba00e8fd5f10306b2_share', 'fcd04e26e900e94b9ed6dd604fed2b64_share', 'f7177163c833dff4b38fc8d2872f1ec6', '3ab586f9ea0a8e5f3f1109a4862476a5_share', 'e3a958df39563a3bc9cbc53fc79dee52_share', '07aeb18febbdbf77511a10fd4aa49942_share', 'b03a75fccca587a511170aa5b7952210_share', '147768d3955e38c4e662c0a95d807abc_share', '73cc1f9b54baa5917ae240b96c832690_share', 'c51ce410c124a10e0db5e4b97fc2af39', '33e75ff09dd601bbe69f351039152189', 'c88a45cebe37ef31231604ff583105be_share', '6364d3f0f495b6ab9dcf8d3b5c6e0b01', 'c3f484315c27d75d5449e9e0963949da_share', '4f1ac1f615a1c3414134c2d3ae9a3f58_share', '37693cfc748049e45d87b8c7d8b9aacd', '19ca14e7ea6328a42e0eb13d585e4c22', '0c82a0ea628e0ec608d70d1db9d822d9_share', 'ecee596a242de13b779391cdaa2c528d_share', 'd645920e395fedad7bbbed0eca3fe2e0', '755e9e9053939dbd61e36d0d32a7e646_share', '3a1e655328599b6a1208115f2271c942_share', 'ed5fc9493b475813203e1c2497a11f6f_share', 'd82c8d1619ad8176d665453cfb2e55f0', 'e6fb2f85705dfa295a82233013ab335b_share', 'eb62f6b9306db575c2d596b1279627a4_share', 'c16a5320fa475530d9583c34fd356ef5', 'a3363a6147d5ccb2bbd06d1fa3c7f276_share', 'd972dc8564e175effccbcb3e402650eb_share', 'a8d48ed01e06015083c360366501e726_share', 'dad2fd502d209b12ac27f451b0b9c17e_share', 'fbc01d515dac182ba3524a3b11fdf4b2_share', 'd67d8ab4f4c10bf22aa353e27879133c', '6ea9ab1baa0efb9e19094440c317e21b', 'b0f07fe0f7de991bfca0de50391eb328_share', '2838023a778dfaecdc212708f721b788', '1ff1de774005f8da13f42943881c655f', 'a5bfc9e07964f8dddeb95fc584cd965d', 'c22b7285b63e1d6f09a10dc258858d48_share', '5072ec0261a35740089ed41e844e51eb_share', '0e0b24fc303d2b384be5a2464654a5d2_share', 'e960bd3154493f20a5a54c28f5686d4e_share', '1c383cd30b7c298ab50293adfecb7b18', 'b705667936f5d49b801c56aa43bed5ea_share', '4721dc6a803c213861d569b31f3c121f_share', 'd9f5e405a7f74ed652a8f0b31a87f636_share', '94b02d7d3f29b972b34c169cfa68120d_share', 'ab1048060528a978a536ee2e9538de28_share', '857778a20b9a41d4ca0d687a36e4bfa8_share'] not in index\""
     ]
    }
   ],
   "source": [
    "data = data[fix_cols + [col for col in best_features[:200] if col not in fix_cols]]\n",
    "data.shape"
   ]
  },
  {
   "cell_type": "code",
   "execution_count": 1109,
   "id": "ed746b5b",
   "metadata": {},
   "outputs": [
    {
     "data": {
      "text/plain": [
       "(5000, 237)"
      ]
     },
     "execution_count": 1109,
     "metadata": {},
     "output_type": "execute_result"
    }
   ],
   "source": [
    "share = 0.9\n",
    "count = int(len(data) * share)\n",
    "\n",
    "X_train = data.drop(columns={'UpLift'}).iloc[:count]\n",
    "y_train = data['UpLift'].iloc[:count]\n",
    "X_test = data.drop(columns={'UpLift'}).iloc[count:]\n",
    "y_test = data['UpLift'].iloc[count:]\n",
    "X_train.shape"
   ]
  },
  {
   "cell_type": "code",
   "execution_count": 1129,
   "id": "03bee72b",
   "metadata": {},
   "outputs": [],
   "source": [
    "from xgboost import XGBRegressor\n",
    "from sklearn.model_selection import RandomizedSearchCV\n",
    "from sklearn.linear_model import LinearRegression, Lasso\n",
    "from sklearn.metrics import make_scorer, mean_absolute_error\n",
    "\n",
    "grid_xgb = {\n",
    "    'n_estimators': [1300, 1400, 1500, 1600, 1700],\n",
    "    'learning_rate': [0.03, 0.05, 0.07],\n",
    "    'subsample': [0.8, 1.0],\n",
    "    'max_depth': [4, 5, 6],\n",
    "    'colsample_bytree': [0.5, 0.8, 1.0],\n",
    "    'min_child_weight': [6, 7, 8, 10, 12], #[1, 2, 3]\n",
    "    #'scale_pos_weight': [0.4, 0.5, 0.6],\n",
    "    #'gamma': [0.1, 0.3, 0.5, 1, 2],\n",
    "    'gamma': [1, 2, 3, 4],\n",
    "    #'objective': ['reg:squaredlogerror', 'reg:logistic', 'reg:gamma'],\n",
    "    #'early_stopping_rounds': [None, 100],\n",
    "    #'lambda': [0.5, 1, 2]\n",
    "}\n",
    "\n",
    "grid_lr = {\n",
    "    'alpha': np.arange(0.001, 0.1, 0.003)\n",
    "}"
   ]
  },
  {
   "cell_type": "code",
   "execution_count": 943,
   "id": "e3d7eb6b",
   "metadata": {},
   "outputs": [
    {
     "name": "stdout",
     "output_type": "stream",
     "text": [
      "Fitting 3 folds for each of 20 candidates, totalling 60 fits\n"
     ]
    },
    {
     "name": "stderr",
     "output_type": "stream",
     "text": [
      "Objective did not converge. You might want to increase the number of iterations. Duality gap: 18422.816947400534, tolerance: 7.395867916811916\n",
      "Objective did not converge. You might want to increase the number of iterations. Duality gap: 17304.66595932277, tolerance: 6.971336658401754\n",
      "Objective did not converge. You might want to increase the number of iterations. Duality gap: 17177.839283683417, tolerance: 7.233246051623158\n",
      "Objective did not converge. You might want to increase the number of iterations. Duality gap: 704.7825591379078, tolerance: 7.395867916811916\n",
      "Objective did not converge. You might want to increase the number of iterations. Duality gap: 7690.392625371853, tolerance: 7.395867916811916\n",
      "Objective did not converge. You might want to increase the number of iterations. Duality gap: 20.82610830984777, tolerance: 7.233246051623158\n"
     ]
    },
    {
     "name": "stdout",
     "output_type": "stream",
     "text": [
      "CPU times: user 1h 18min 15s, sys: 3min 20s, total: 1h 21min 36s\n",
      "Wall time: 3min 16s\n"
     ]
    },
    {
     "name": "stderr",
     "output_type": "stream",
     "text": [
      "Objective did not converge. You might want to increase the number of iterations. Duality gap: 26011.30369006612, tolerance: 10.800312302690651\n"
     ]
    },
    {
     "data": {
      "text/plain": [
       "RandomizedSearchCV(cv=3, estimator=Lasso(max_iter=10000), n_iter=20,\n",
       "                   param_distributions={'alpha': array([0.001, 0.004, 0.007, 0.01 , 0.013, 0.016, 0.019, 0.022, 0.025,\n",
       "       0.028, 0.031, 0.034, 0.037, 0.04 , 0.043, 0.046, 0.049, 0.052,\n",
       "       0.055, 0.058, 0.061, 0.064, 0.067, 0.07 , 0.073, 0.076, 0.079,\n",
       "       0.082, 0.085, 0.088, 0.091, 0.094, 0.097])},\n",
       "                   scoring=make_scorer(mean_absolute_error, greater_is_better=False),\n",
       "                   verbose=1)"
      ]
     },
     "execution_count": 943,
     "metadata": {},
     "output_type": "execute_result"
    }
   ],
   "source": [
    "%%time\n",
    "model = Lasso(max_iter=10000)\n",
    "\n",
    "cv = RandomizedSearchCV(\n",
    "    estimator=model,\n",
    "    cv=3,\n",
    "    param_distributions=grid_lr,\n",
    "    n_iter=20,\n",
    "    scoring=make_scorer(mean_absolute_error, greater_is_better=False),\n",
    "    #n_jobs=-1,\n",
    "    verbose=1\n",
    ")\n",
    "cv.fit(X_train, y_train)"
   ]
  },
  {
   "cell_type": "code",
   "execution_count": null,
   "id": "33ec282b",
   "metadata": {
    "scrolled": true
   },
   "outputs": [
    {
     "name": "stdout",
     "output_type": "stream",
     "text": [
      "Fitting 3 folds for each of 40 candidates, totalling 120 fits\n"
     ]
    }
   ],
   "source": [
    "%%time\n",
    "model = XGBRegressor(\n",
    "    objective='reg:squarederror'\n",
    ")\n",
    "\n",
    "cv = RandomizedSearchCV(\n",
    "    estimator=model,\n",
    "    cv=3,\n",
    "    param_distributions=grid_xgb,\n",
    "    n_iter=40,\n",
    "    scoring=make_scorer(mean_absolute_error, greater_is_better=False),\n",
    "    #n_jobs=-1,\n",
    "    verbose=1\n",
    ")\n",
    "cv.fit(X_train, y_train)"
   ]
  },
  {
   "cell_type": "code",
   "execution_count": 1048,
   "id": "1df8c334",
   "metadata": {},
   "outputs": [
    {
     "data": {
      "text/plain": [
       "1"
      ]
     },
     "execution_count": 1048,
     "metadata": {},
     "output_type": "execute_result"
    }
   ],
   "source": [
    "1"
   ]
  },
  {
   "cell_type": "code",
   "execution_count": 1113,
   "id": "b9b2bf53",
   "metadata": {
    "scrolled": true
   },
   "outputs": [
    {
     "data": {
      "text/plain": [
       "{'subsample': 1.0,\n",
       " 'n_estimators': 1500,\n",
       " 'min_child_weight': 8,\n",
       " 'max_depth': 5,\n",
       " 'learning_rate': 0.05,\n",
       " 'gamma': 3,\n",
       " 'colsample_bytree': 0.8}"
      ]
     },
     "execution_count": 1113,
     "metadata": {},
     "output_type": "execute_result"
    }
   ],
   "source": [
    "cv.best_params_"
   ]
  },
  {
   "cell_type": "code",
   "execution_count": 1114,
   "id": "aae7c756",
   "metadata": {},
   "outputs": [
    {
     "data": {
      "text/plain": [
       "-1.1099404622762357"
      ]
     },
     "execution_count": 1114,
     "metadata": {},
     "output_type": "execute_result"
    }
   ],
   "source": [
    "cv.best_score_"
   ]
  },
  {
   "cell_type": "code",
   "execution_count": 777,
   "id": "19348ae8",
   "metadata": {},
   "outputs": [
    {
     "data": {
      "text/plain": [
       "['duration',\n",
       " 'check_pos_min',\n",
       " 'check_pos_mean',\n",
       " 'check_pos_max',\n",
       " 'num_sales_mean',\n",
       " 'num_sales_max',\n",
       " 'supplier_price_sum',\n",
       " 'selling_price_sum',\n",
       " 'supplier_price_unit_min',\n",
       " 'supplier_price_unit_mean',\n",
       " 'supplier_price_unit_max',\n",
       " 'selling_price_unit_min',\n",
       " 'selling_price_unit_mean',\n",
       " 'selling_price_unit_max',\n",
       " 'is_promo_mean',\n",
       " 'is_promo_sum',\n",
       " 'd9f5e405a7f74ed652a8f0b31a87f636_share',\n",
       " 'd9f5e405a7f74ed652a8f0b31a87f636_count',\n",
       " 'f9d3742964e8d35a46da512cf46fbeb3_share',\n",
       " 'f9d3742964e8d35a46da512cf46fbeb3_count',\n",
       " 'b26747fc8cb2170baa866b315cf58b7c_share',\n",
       " 'b26747fc8cb2170baa866b315cf58b7c_count',\n",
       " '096ec814d2392f379695f30ca7041977_share',\n",
       " '096ec814d2392f379695f30ca7041977_count',\n",
       " '155d328d7db586cf215aca5e8088dfed_share',\n",
       " '155d328d7db586cf215aca5e8088dfed_count',\n",
       " '7d7c45b9a935cf9d845fc75679a41559_share',\n",
       " '7d7c45b9a935cf9d845fc75679a41559_count',\n",
       " '147768d3955e38c4e662c0a95d807abc_share',\n",
       " '147768d3955e38c4e662c0a95d807abc_count',\n",
       " '4f1ac1f615a1c3414134c2d3ae9a3f58_share',\n",
       " '4f1ac1f615a1c3414134c2d3ae9a3f58_count',\n",
       " 'adeb12111c95807557664efbf3b746ae_share',\n",
       " 'adeb12111c95807557664efbf3b746ae_count',\n",
       " 'a8d48ed01e06015083c360366501e726_share',\n",
       " 'a8d48ed01e06015083c360366501e726_count',\n",
       " 'ab1048060528a978a536ee2e9538de28_share',\n",
       " 'ab1048060528a978a536ee2e9538de28_count',\n",
       " '540bd55a2cf295b8ea9cd78650e89d03_share',\n",
       " '540bd55a2cf295b8ea9cd78650e89d03_count',\n",
       " '9061198a99f995e44314503d643e49a8_share',\n",
       " '9061198a99f995e44314503d643e49a8_count',\n",
       " '171293841d3fdd4af2e12426ce202ac9_share',\n",
       " '171293841d3fdd4af2e12426ce202ac9_count',\n",
       " '7f8bb0fe8b33780a08fe6b60ced14529_share',\n",
       " '7f8bb0fe8b33780a08fe6b60ced14529_count',\n",
       " '4ee7da9a70026f945c33f970f6c2228a_share',\n",
       " '4ee7da9a70026f945c33f970f6c2228a_count',\n",
       " '2d17b1cd9f1f0c85bb90adad7c25ac5e_share',\n",
       " '2d17b1cd9f1f0c85bb90adad7c25ac5e_count',\n",
       " '0c82a0ea628e0ec608d70d1db9d822d9_share',\n",
       " '0c82a0ea628e0ec608d70d1db9d822d9_count',\n",
       " 'a5aad544b38a088b35b395645efe0d61_share',\n",
       " 'a5aad544b38a088b35b395645efe0d61_count',\n",
       " '94b02d7d3f29b972b34c169cfa68120d_share',\n",
       " '94b02d7d3f29b972b34c169cfa68120d_count',\n",
       " '6950aac2d7932e1f1a4c3cf6ada1316e_share',\n",
       " '6950aac2d7932e1f1a4c3cf6ada1316e_count',\n",
       " 'f0f4b6598f2cee45644673998b4f44be_share',\n",
       " 'f0f4b6598f2cee45644673998b4f44be_count',\n",
       " '7f1a65908b05238c21c134c764c89e28_share',\n",
       " '7f1a65908b05238c21c134c764c89e28_count',\n",
       " '73cc1f9b54baa5917ae240b96c832690_share',\n",
       " '73cc1f9b54baa5917ae240b96c832690_count',\n",
       " 'f865c5e07958ad70ef989e905390f6d0_share',\n",
       " 'f865c5e07958ad70ef989e905390f6d0_count',\n",
       " 'a9dd14d824822d6d78d0fe3e55dbd7fb_share',\n",
       " 'a9dd14d824822d6d78d0fe3e55dbd7fb_count',\n",
       " '785ee201dc63daae3aecb2c7cbae60d3_share',\n",
       " '785ee201dc63daae3aecb2c7cbae60d3_count',\n",
       " '95b09698fda1f64af16708ffb859eab9_share',\n",
       " '95b09698fda1f64af16708ffb859eab9_count',\n",
       " '5072ec0261a35740089ed41e844e51eb_share',\n",
       " '5072ec0261a35740089ed41e844e51eb_count',\n",
       " 'ed5fc9493b475813203e1c2497a11f6f_share',\n",
       " 'ed5fc9493b475813203e1c2497a11f6f_count',\n",
       " '29150bb2319c182c944841c74d2f8d75_share',\n",
       " '29150bb2319c182c944841c74d2f8d75_count',\n",
       " 'bda8f8645db921d24845639f76635574_share',\n",
       " 'bda8f8645db921d24845639f76635574_count',\n",
       " 'ae2bac2e4b4da805d01b2952d7e35ba4_share',\n",
       " 'ae2bac2e4b4da805d01b2952d7e35ba4_count',\n",
       " '0e0b24fc303d2b384be5a2464654a5d2_share',\n",
       " '0e0b24fc303d2b384be5a2464654a5d2_count',\n",
       " 'b705667936f5d49b801c56aa43bed5ea_share',\n",
       " 'b705667936f5d49b801c56aa43bed5ea_count',\n",
       " '78c734ebceead5b7b07ffd1414b22eed_share',\n",
       " '78c734ebceead5b7b07ffd1414b22eed_count',\n",
       " '335e2d36ca1a5def183273b492a32c63_share',\n",
       " '335e2d36ca1a5def183273b492a32c63_count',\n",
       " 'b6fb522815d06fed82b0140be4c74680_share',\n",
       " 'b6fb522815d06fed82b0140be4c74680_count',\n",
       " '2f8639feef43f2964be0cee184dad78c_share',\n",
       " '2f8639feef43f2964be0cee184dad78c_count',\n",
       " 'fbc01d515dac182ba3524a3b11fdf4b2_share',\n",
       " 'fbc01d515dac182ba3524a3b11fdf4b2_count',\n",
       " 'dad2fd502d209b12ac27f451b0b9c17e_share',\n",
       " 'dad2fd502d209b12ac27f451b0b9c17e_count',\n",
       " '755e9e9053939dbd61e36d0d32a7e646_share',\n",
       " '755e9e9053939dbd61e36d0d32a7e646_count',\n",
       " 'ca0a908e85ac27b2cd0d2b82b3e374e5_share',\n",
       " 'ca0a908e85ac27b2cd0d2b82b3e374e5_count',\n",
       " '13448471d89a9cd8d7f71026a0334ec8_share',\n",
       " '13448471d89a9cd8d7f71026a0334ec8_count',\n",
       " '25bbdcd06c32d477f7fa1c3e4a91b032_share',\n",
       " '25bbdcd06c32d477f7fa1c3e4a91b032_count',\n",
       " 'f90a337271004d00cbd620a61844401a_share',\n",
       " 'f90a337271004d00cbd620a61844401a_count',\n",
       " '7dd5071ff43138f6756e30f4b271c4ac_share',\n",
       " '7dd5071ff43138f6756e30f4b271c4ac_count',\n",
       " '0e7e3cf0ded4d9db8b376b317c007f99_share',\n",
       " '0e7e3cf0ded4d9db8b376b317c007f99_count',\n",
       " 'e960bd3154493f20a5a54c28f5686d4e_share',\n",
       " 'e960bd3154493f20a5a54c28f5686d4e_count',\n",
       " 'e90b327c1ceca11f1a44a8bcf58af34c_share',\n",
       " 'e90b327c1ceca11f1a44a8bcf58af34c_count',\n",
       " 'e6fb2f85705dfa295a82233013ab335b_share',\n",
       " 'e6fb2f85705dfa295a82233013ab335b_count',\n",
       " '4721dc6a803c213861d569b31f3c121f_share',\n",
       " '4721dc6a803c213861d569b31f3c121f_count',\n",
       " '2a34e8685490c86e180af62f6f0f4f87_share',\n",
       " '2a34e8685490c86e180af62f6f0f4f87_count',\n",
       " '8566418f640c84b79671a915d659087d_share',\n",
       " '8566418f640c84b79671a915d659087d_count',\n",
       " 'a4bab3ce420ea5342f99b468206738eb_share',\n",
       " 'a4bab3ce420ea5342f99b468206738eb_count',\n",
       " '5394c8765bf72ecb92711a1e6f9b8783_share',\n",
       " '5394c8765bf72ecb92711a1e6f9b8783_count',\n",
       " 'c3f484315c27d75d5449e9e0963949da_share',\n",
       " 'c3f484315c27d75d5449e9e0963949da_count',\n",
       " '926abae84a4bd33c834bc6b981b8cf30_share',\n",
       " '926abae84a4bd33c834bc6b981b8cf30_count',\n",
       " '6a2095bc178dbb0ba00e8fd5f10306b2_share',\n",
       " '6a2095bc178dbb0ba00e8fd5f10306b2_count',\n",
       " 'd1aa0137612fb8dd48d20f02aa9c3196_share',\n",
       " 'd1aa0137612fb8dd48d20f02aa9c3196_count',\n",
       " 'c22b7285b63e1d6f09a10dc258858d48_share',\n",
       " 'c22b7285b63e1d6f09a10dc258858d48_count',\n",
       " 'ecee596a242de13b779391cdaa2c528d_share',\n",
       " 'ecee596a242de13b779391cdaa2c528d_count',\n",
       " 'cd6ebdcfe9b6f0ce7ac05d8848a8c956_share',\n",
       " 'cd6ebdcfe9b6f0ce7ac05d8848a8c956_count',\n",
       " '6858fb45a3d3aef7c29322d3b68dffd1_share',\n",
       " '6858fb45a3d3aef7c29322d3b68dffd1_count',\n",
       " 'eb62f6b9306db575c2d596b1279627a4_share',\n",
       " 'eb62f6b9306db575c2d596b1279627a4_count',\n",
       " 'fee67cadcc3a0bec8e00641884903c45_share',\n",
       " 'fee67cadcc3a0bec8e00641884903c45_count',\n",
       " '2ebe25dd3a566f36f80d55440d3c3834_share',\n",
       " '2ebe25dd3a566f36f80d55440d3c3834_count',\n",
       " '3a1e655328599b6a1208115f2271c942_share',\n",
       " '3a1e655328599b6a1208115f2271c942_count',\n",
       " '19a6a0b9360519fe82b5b06b3f79d62c_share',\n",
       " '19a6a0b9360519fe82b5b06b3f79d62c_count',\n",
       " '1640f59af9fc45f93a72652de254d387_share',\n",
       " '1640f59af9fc45f93a72652de254d387_count',\n",
       " 'd2ac32e14d651b9ed03f26f845a11597_share',\n",
       " 'd2ac32e14d651b9ed03f26f845a11597_count',\n",
       " '3ab586f9ea0a8e5f3f1109a4862476a5_share',\n",
       " '3ab586f9ea0a8e5f3f1109a4862476a5_count',\n",
       " 'b03a75fccca587a511170aa5b7952210_share',\n",
       " 'b03a75fccca587a511170aa5b7952210_count',\n",
       " 'e3a958df39563a3bc9cbc53fc79dee52_share',\n",
       " 'e3a958df39563a3bc9cbc53fc79dee52_count',\n",
       " 'd04feef70623eaf7167f9172da8650db_share',\n",
       " 'd04feef70623eaf7167f9172da8650db_count',\n",
       " '84f7b02a8128f5f5775611244c24b941_share',\n",
       " '84f7b02a8128f5f5775611244c24b941_count',\n",
       " 'd33f67c5652acb3fac99b9dc16bea0c1_share',\n",
       " 'd33f67c5652acb3fac99b9dc16bea0c1_count',\n",
       " '8c5781246fcb0296e1f11cd4e2eee68d_share',\n",
       " '8c5781246fcb0296e1f11cd4e2eee68d_count',\n",
       " '2b7f8457c72458d71a5b2b4380972519_share',\n",
       " '2b7f8457c72458d71a5b2b4380972519_count',\n",
       " '0cf0613553f1dd3f98b4009b31c52618_share',\n",
       " '0cf0613553f1dd3f98b4009b31c52618_count',\n",
       " '4bc8f1a601aee89546deeb66b9625008_share',\n",
       " '4bc8f1a601aee89546deeb66b9625008_count',\n",
       " 'be30a998b7393750806a3058d926469f_share',\n",
       " 'be30a998b7393750806a3058d926469f_count',\n",
       " '087c8abfaee44ebbf0c2871976a2ab18_share',\n",
       " '087c8abfaee44ebbf0c2871976a2ab18_count',\n",
       " '6cb9669ff7bbb140212081ccb0f68543_share',\n",
       " '6cb9669ff7bbb140212081ccb0f68543_count',\n",
       " 'd25922edb7ab92c0ca31328cbdcbd42f_share',\n",
       " 'd25922edb7ab92c0ca31328cbdcbd42f_count',\n",
       " '29549a71a57f587d88209b9c1f1b7999_share',\n",
       " '29549a71a57f587d88209b9c1f1b7999_count',\n",
       " 'a3363a6147d5ccb2bbd06d1fa3c7f276_share',\n",
       " 'a3363a6147d5ccb2bbd06d1fa3c7f276_count',\n",
       " '028f7ee9eb0c0994a8ba1e60bcffd09e_share',\n",
       " '028f7ee9eb0c0994a8ba1e60bcffd09e_count',\n",
       " 'c88a45cebe37ef31231604ff583105be_share',\n",
       " 'c88a45cebe37ef31231604ff583105be_count',\n",
       " '7cd86ecb09aa48c6e620b340f6a74592_share',\n",
       " '7cd86ecb09aa48c6e620b340f6a74592_count',\n",
       " 'c0279f73075a52e1a7dea35065bc8c80_share',\n",
       " 'c0279f73075a52e1a7dea35065bc8c80_count',\n",
       " 'a410115ed452a9213424d92cacd2a083_share',\n",
       " 'a410115ed452a9213424d92cacd2a083_count',\n",
       " 'd972dc8564e175effccbcb3e402650eb_share',\n",
       " 'd972dc8564e175effccbcb3e402650eb_count',\n",
       " '612b9796c617960a4e9abe05845c3d43_share',\n",
       " '612b9796c617960a4e9abe05845c3d43_count',\n",
       " 'bc0137b31ec76a5db842d365640116bd_share',\n",
       " 'bc0137b31ec76a5db842d365640116bd_count',\n",
       " '198f9e9f064617952401a90cfbff7461_share',\n",
       " '198f9e9f064617952401a90cfbff7461_count',\n",
       " '5bbac39cd13478e3c41463540d032c22_share',\n",
       " '5bbac39cd13478e3c41463540d032c22_count',\n",
       " '87277281b55376d0231ad94f63e4a7eb_share',\n",
       " '87277281b55376d0231ad94f63e4a7eb_count',\n",
       " 'fcd04e26e900e94b9ed6dd604fed2b64_share',\n",
       " 'fcd04e26e900e94b9ed6dd604fed2b64_count',\n",
       " 'd39934ce111a864abf40391f3da9cdf5_share',\n",
       " 'd39934ce111a864abf40391f3da9cdf5_count',\n",
       " 'a9b2b0ce7799c4de9c7a3aed9ebeddeb_share',\n",
       " 'a9b2b0ce7799c4de9c7a3aed9ebeddeb_count',\n",
       " '07aeb18febbdbf77511a10fd4aa49942_share',\n",
       " '07aeb18febbdbf77511a10fd4aa49942_count',\n",
       " '24a41dfc0b09c248bbc23b5e1ffc16d8_share',\n",
       " '24a41dfc0b09c248bbc23b5e1ffc16d8_count',\n",
       " '605b3386cb5ef25b8d60d1bacfeeab7a_share',\n",
       " '605b3386cb5ef25b8d60d1bacfeeab7a_count',\n",
       " 'b94d71e6bc4cc21ffbaaef5e4aca6f03_share',\n",
       " 'b94d71e6bc4cc21ffbaaef5e4aca6f03_count',\n",
       " '898dc2c947cee718e4afd7dfcb2f1a09_share',\n",
       " '898dc2c947cee718e4afd7dfcb2f1a09_count',\n",
       " '857778a20b9a41d4ca0d687a36e4bfa8_share',\n",
       " '857778a20b9a41d4ca0d687a36e4bfa8_count',\n",
       " 'fc1198178c3594bfdda3ca2996eb65cb_share',\n",
       " 'fc1198178c3594bfdda3ca2996eb65cb_count',\n",
       " '5db5ae42bae950401219b2da9c583331_share',\n",
       " '5db5ae42bae950401219b2da9c583331_count',\n",
       " '89befd1102aeaead24cfe2b9fa9997f9_share',\n",
       " '89befd1102aeaead24cfe2b9fa9997f9_count',\n",
       " 'b0f07fe0f7de991bfca0de50391eb328_share',\n",
       " 'b0f07fe0f7de991bfca0de50391eb328_count',\n",
       " 'Friday_share',\n",
       " 'Friday_count',\n",
       " 'Wednesday_share',\n",
       " 'Wednesday_count',\n",
       " 'Saturday_share',\n",
       " 'Saturday_count',\n",
       " 'Thursday_share',\n",
       " 'Thursday_count',\n",
       " 'Tuesday_share',\n",
       " 'Tuesday_count',\n",
       " 'Sunday_share',\n",
       " 'Sunday_count',\n",
       " 'Monday_share',\n",
       " 'Monday_count',\n",
       " 'day_share',\n",
       " 'day_count',\n",
       " 'morning_share',\n",
       " 'morning_count',\n",
       " 'evening_share',\n",
       " 'evening_count',\n",
       " 'night_share',\n",
       " 'night_count',\n",
       " '152f1b77a32508570e2745daf9ce7aec_share',\n",
       " '152f1b77a32508570e2745daf9ce7aec_count',\n",
       " '7e35e74e610188414ad24235dd787c78_share',\n",
       " '7e35e74e610188414ad24235dd787c78_count',\n",
       " 'cc9284597026dcc021735c0970ca0c93_purch1',\n",
       " '44a7b825383402ed937a15fb8a5bb12a_purch1',\n",
       " '7f39f8317fbdb1988ef4c628eba02591_purch2',\n",
       " 'd645920e395fedad7bbbed0eca3fe2e0_purch2',\n",
       " 'd67d8ab4f4c10bf22aa353e27879133c_purch2',\n",
       " 'c16a5320fa475530d9583c34fd356ef5_purch2',\n",
       " '6364d3f0f495b6ab9dcf8d3b5c6e0b01_purch2',\n",
       " '6f4922f45568161a8cdf4ad2299f6d23_purch2',\n",
       " '33e75ff09dd601bbe69f351039152189_purch2',\n",
       " 'd82c8d1619ad8176d665453cfb2e55f0_purch2',\n",
       " '1c383cd30b7c298ab50293adfecb7b18_purch2',\n",
       " '37693cfc748049e45d87b8c7d8b9aacd_purch2',\n",
       " '6c8349cc7260ae62e3b1396831a8398f_purch2',\n",
       " '9bf31c7ff062936a96d3c8bd1f8f2ff3_purch2',\n",
       " '17e62166fc8586dfa4d1bc0e1742c08b_purch2',\n",
       " 'a5771bce93e200c36f7cd9dfd0e5deaa_purch2',\n",
       " 'd2ddea18f00665ce8623e36bd4e3c7c5_purch2',\n",
       " '1ff1de774005f8da13f42943881c655f_purch2',\n",
       " 'a5bfc9e07964f8dddeb95fc584cd965d_purch2',\n",
       " '19ca14e7ea6328a42e0eb13d585e4c22_purch2',\n",
       " '182be0c5cdcd5072bb1864cdee4d3d6e_purch2',\n",
       " 'fbd7939d674997cdb4692d34de8633c4_purch2',\n",
       " '2838023a778dfaecdc212708f721b788_purch2',\n",
       " '44f683a84163b3523afe57c2e008bc8c_purch2',\n",
       " 'b53b3a3d6ab90ce0268229151c9bde11_purch2',\n",
       " '8e296a067a37563370ded05f5a3bf3ec_purch2',\n",
       " 'ea5d2f1c4608232e07d3aa3d998e5135_purch2',\n",
       " '03afdbd66e7929b125f8597834fa83a4_purch2',\n",
       " 'c20ad4d76fe97759aa27a0c99bff6710_purch2',\n",
       " 'a1d0c6e83f027327d8461063f4ac58a6_purch2',\n",
       " '6512bd43d9caa6e02c990b0a82652dca_purch2',\n",
       " '66f041e16a60928b05a7e228a89c3799_purch2',\n",
       " 'ad61ab143223efbc24c7d2583be69251_purch2',\n",
       " 'c0c7c76d30bd3dcaefc96f40275bdc0a_purch2',\n",
       " '735b90b4568125ed6c3f678819b6e058_purch2',\n",
       " '72b32a1f754ba1c09b3695e0cb6cde7f_purch2',\n",
       " 'fc490ca45c00b1249bbe3554a4fdf6fb_purch2',\n",
       " '9a1158154dfa42caddbd0694a4e9bdc8_purch2',\n",
       " '14bfa6bb14875e45bba028a21ed38046_purch2',\n",
       " 'f7177163c833dff4b38fc8d2872f1ec6_purch2',\n",
       " '34173cb38f07f89ddbebc2ac9128303f_purch2',\n",
       " '6ea9ab1baa0efb9e19094440c317e21b_purch2',\n",
       " 'a684eceee76fc522773286a895bc8436_purch2',\n",
       " '1f0e3dad99908345f7439f8ffabdffc4_purch2',\n",
       " '44a7b825383402ed937a15fb8a5bb12a',\n",
       " 'cc9284597026dcc021735c0970ca0c93',\n",
       " '7f39f8317fbdb1988ef4c628eba02591',\n",
       " 'd645920e395fedad7bbbed0eca3fe2e0',\n",
       " 'd67d8ab4f4c10bf22aa353e27879133c',\n",
       " 'c16a5320fa475530d9583c34fd356ef5',\n",
       " '6364d3f0f495b6ab9dcf8d3b5c6e0b01',\n",
       " '6f4922f45568161a8cdf4ad2299f6d23',\n",
       " '33e75ff09dd601bbe69f351039152189',\n",
       " 'd82c8d1619ad8176d665453cfb2e55f0',\n",
       " '1c383cd30b7c298ab50293adfecb7b18',\n",
       " '37693cfc748049e45d87b8c7d8b9aacd',\n",
       " '6c8349cc7260ae62e3b1396831a8398f',\n",
       " '17e62166fc8586dfa4d1bc0e1742c08b',\n",
       " 'a5771bce93e200c36f7cd9dfd0e5deaa',\n",
       " 'd2ddea18f00665ce8623e36bd4e3c7c5',\n",
       " '1ff1de774005f8da13f42943881c655f',\n",
       " 'a5bfc9e07964f8dddeb95fc584cd965d',\n",
       " '19ca14e7ea6328a42e0eb13d585e4c22',\n",
       " 'b6d767d2f8ed5d21a44b0e5886680cb9',\n",
       " '182be0c5cdcd5072bb1864cdee4d3d6e',\n",
       " 'fbd7939d674997cdb4692d34de8633c4',\n",
       " '2838023a778dfaecdc212708f721b788',\n",
       " 'f457c545a9ded88f18ecee47145a72c0',\n",
       " 'c20ad4d76fe97759aa27a0c99bff6710',\n",
       " '44f683a84163b3523afe57c2e008bc8c',\n",
       " 'c51ce410c124a10e0db5e4b97fc2af39',\n",
       " 'f7177163c833dff4b38fc8d2872f1ec6',\n",
       " 'b53b3a3d6ab90ce0268229151c9bde11',\n",
       " '8e296a067a37563370ded05f5a3bf3ec',\n",
       " 'ea5d2f1c4608232e07d3aa3d998e5135',\n",
       " '9a1158154dfa42caddbd0694a4e9bdc8',\n",
       " '03afdbd66e7929b125f8597834fa83a4',\n",
       " '9bf31c7ff062936a96d3c8bd1f8f2ff3',\n",
       " '6ea9ab1baa0efb9e19094440c317e21b',\n",
       " 'a1d0c6e83f027327d8461063f4ac58a6',\n",
       " 'a684eceee76fc522773286a895bc8436',\n",
       " '6512bd43d9caa6e02c990b0a82652dca',\n",
       " '66f041e16a60928b05a7e228a89c3799',\n",
       " 'ad61ab143223efbc24c7d2583be69251',\n",
       " 'c0c7c76d30bd3dcaefc96f40275bdc0a',\n",
       " '735b90b4568125ed6c3f678819b6e058',\n",
       " '72b32a1f754ba1c09b3695e0cb6cde7f',\n",
       " 'fc490ca45c00b1249bbe3554a4fdf6fb',\n",
       " '14bfa6bb14875e45bba028a21ed38046',\n",
       " '34173cb38f07f89ddbebc2ac9128303f',\n",
       " 'month_1',\n",
       " 'month_2',\n",
       " 'month_8',\n",
       " 'month_6',\n",
       " 'month_7',\n",
       " 'month_9',\n",
       " 'month_4',\n",
       " 'month_5',\n",
       " 'month_3',\n",
       " 'month_12',\n",
       " 'month_11',\n",
       " 'holiday_2020-01-07',\n",
       " 'holiday_2020-05-01',\n",
       " 'holiday_2020-05-09',\n",
       " 'holiday_2020-02-23',\n",
       " 'holiday_2020-06-12',\n",
       " 'holiday_2020-03-08',\n",
       " 'holiday_2020-01-01',\n",
       " 'sku_count',\n",
       " 'Billboards',\n",
       " 'Biweekly',\n",
       " 'Facades',\n",
       " 'Seasonal']"
      ]
     },
     "execution_count": 777,
     "metadata": {},
     "output_type": "execute_result"
    }
   ],
   "source": [
    "X_test.columns.to_list()"
   ]
  },
  {
   "cell_type": "code",
   "execution_count": 1134,
   "id": "4c0a352c",
   "metadata": {},
   "outputs": [
    {
     "data": {
      "text/plain": [
       "0.8116403658157396"
      ]
     },
     "execution_count": 1134,
     "metadata": {},
     "output_type": "execute_result"
    },
    {
     "data": {
      "image/png": "[encoded data removed]",
      "text/plain": [
       "<Figure size 864x504 with 1 Axes>"
      ]
     },
     "metadata": {
      "needs_background": "light"
     },
     "output_type": "display_data"
    }
   ],
   "source": [
    "y_pred = cv.best_estimator_.predict(X_test)\n",
    "plt.scatter(y_test, y_pred, s=10);\n",
    "xx = [0, 30]\n",
    "plt.plot(xx, xx)\n",
    "mean_absolute_error(y_pred, y_test)"
   ]
  },
  {
   "cell_type": "code",
   "execution_count": 1164,
   "id": "ffb235e2",
   "metadata": {
    "scrolled": true
   },
   "outputs": [
    {
     "name": "stdout",
     "output_type": "stream",
     "text": [
      "Real:  4.5300523736\n",
      "Predicted:  4.5275865\n"
     ]
    },
    {
     "data": {
      "image/png": "[encoded data removed]",
      "text/plain": [
       "<Figure size 576x648 with 3 Axes>"
      ]
     },
     "metadata": {},
     "output_type": "display_data"
    }
   ],
   "source": [
    "import shap\n",
    "\n",
    "idx = 101\n",
    "\n",
    "\n",
    "explainer = shap.Explainer(cv.best_estimator_)\n",
    "shap_values = explainer(X_test.reset_index(drop=True))\n",
    "\n",
    "print('Real: ', y_test.to_list()[idx])\n",
    "print('Predicted: ', cv.best_estimator_.predict(X_test.reset_index(drop=True))[idx])\n",
    "# visualize the first prediction's explanation\n",
    "shap.plots.waterfall(shap_values[idx],max_display=15)"
   ]
  },
  {
   "cell_type": "code",
   "execution_count": null,
   "id": "4faa7327",
   "metadata": {},
   "outputs": [],
   "source": [
    "# лучший скор был когда была hi по чекам и не было hi по промо"
   ]
  },
  {
   "cell_type": "code",
   "execution_count": 888,
   "id": "98dfb0da",
   "metadata": {},
   "outputs": [],
   "source": [
    "sorted_idx = np.argsort(cv.best_estimator_.feature_importances_)[::-1]\n",
    "#for index in sorted_idx:\n",
    "#    print([X_train.columns[index], cv.best_estimator_.feature_importances_[index]]) \n",
    "    \n",
    "best_features = [X_train.columns[idx] for idx in sorted_idx]"
   ]
  },
  {
   "cell_type": "code",
   "execution_count": 1165,
   "id": "ab5a6885",
   "metadata": {},
   "outputs": [
    {
     "data": {
      "image/png": "[encoded data removed]",
      "text/plain": [
       "<Figure size 576x1188 with 1 Axes>"
      ]
     },
     "metadata": {},
     "output_type": "display_data"
    }
   ],
   "source": [
    "shap.plots.bar(shap_values, 30)"
   ]
  },
  {
   "cell_type": "code",
   "execution_count": 1166,
   "id": "3f3c031a",
   "metadata": {},
   "outputs": [
    {
     "data": {
      "image/png": "[encoded data removed]",
      "text/plain": [
       "<Figure size 576x972 with 2 Axes>"
      ]
     },
     "metadata": {
      "needs_background": "light"
     },
     "output_type": "display_data"
    }
   ],
   "source": [
    "shap.plots.beeswarm(shap_values, 30)"
   ]
  },
  {
   "cell_type": "code",
   "execution_count": 1167,
   "id": "d70fd2ae",
   "metadata": {},
   "outputs": [
    {
     "data": {
      "image/png": "[encoded data removed]",
      "text/plain": [
       "<Figure size 540x360 with 3 Axes>"
      ]
     },
     "metadata": {
      "needs_background": "light"
     },
     "output_type": "display_data"
    }
   ],
   "source": [
    "shap.plots.scatter(shap_values[:,\"selling_price_unit_max\"], color=shap_values)"
   ]
  },
  {
   "cell_type": "code",
   "execution_count": 1135,
   "id": "7a08f9a5",
   "metadata": {
    "scrolled": true
   },
   "outputs": [
    {
     "data": {
      "text/plain": [
       "XGBRegressor(base_score=0.5, booster='gbtree', colsample_bylevel=1,\n",
       "             colsample_bynode=1, colsample_bytree=0.8, gamma=1, gpu_id=-1,\n",
       "             importance_type='gain', interaction_constraints='',\n",
       "             learning_rate=0.03, max_delta_step=0, max_depth=6,\n",
       "             min_child_weight=6, missing=nan, monotone_constraints='()',\n",
       "             n_estimators=1400, n_jobs=48, num_parallel_tree=1, random_state=0,\n",
       "             reg_alpha=0, reg_lambda=1, scale_pos_weight=1, subsample=1.0,\n",
       "             tree_method='exact', validate_parameters=1, verbosity=None)"
      ]
     },
     "execution_count": 1135,
     "metadata": {},
     "output_type": "execute_result"
    }
   ],
   "source": [
    "X = data.drop(columns={'UpLift'})\n",
    "y = data.UpLift\n",
    "cv.best_estimator_.fit(X, y)"
   ]
  },
  {
   "cell_type": "code",
   "execution_count": 1136,
   "id": "b1ae1857",
   "metadata": {},
   "outputs": [
    {
     "data": {
      "text/plain": [
       "((2014, 237), (5556, 238))"
      ]
     },
     "execution_count": 1136,
     "metadata": {},
     "output_type": "execute_result"
    }
   ],
   "source": [
    "data_test.shape, data.shape"
   ]
  },
  {
   "cell_type": "code",
   "execution_count": 1137,
   "id": "b3ffaeb5",
   "metadata": {
    "scrolled": false
   },
   "outputs": [],
   "source": [
    "data_test = prepare_dataset(df_test, test=True)\n",
    "data_test = data_test[[col for col in data.columns if col != 'UpLift']]\n",
    "\n",
    "uplift_pred = cv.best_estimator_.predict(data_test)"
   ]
  },
  {
   "cell_type": "code",
   "execution_count": 1138,
   "id": "e5eadd9b",
   "metadata": {},
   "outputs": [
    {
     "name": "stderr",
     "output_type": "stream",
     "text": [
      "\n",
      "A value is trying to be set on a copy of a slice from a DataFrame.\n",
      "Try using .loc[row_indexer,col_indexer] = value instead\n",
      "\n",
      "See the caveats in the documentation: https://pandas.pydata.org/pandas-docs/stable/user_guide/indexing.html#returning-a-view-versus-a-copy\n"
     ]
    }
   ],
   "source": [
    "df_test['UpLift'] = uplift_pred"
   ]
  },
  {
   "cell_type": "code",
   "execution_count": 1139,
   "id": "8d5b4b7a",
   "metadata": {},
   "outputs": [
    {
     "data": {
      "text/plain": [
       "((2014, 237), (2014, 414))"
      ]
     },
     "execution_count": 1139,
     "metadata": {},
     "output_type": "execute_result"
    }
   ],
   "source": [
    "data_test.shape, df_test.shape"
   ]
  },
  {
   "cell_type": "code",
   "execution_count": 1158,
   "id": "8e906b2f",
   "metadata": {},
   "outputs": [
    {
     "data": {
      "text/plain": [
       "(148, 2)"
      ]
     },
     "execution_count": 1158,
     "metadata": {},
     "output_type": "execute_result"
    }
   ],
   "source": [
    "submit = df_test[['Offer_ID', 'UpLift']].groupby('Offer_ID').median().reset_index()\n",
    "submit.shape"
   ]
  },
  {
   "cell_type": "code",
   "execution_count": 1159,
   "id": "1a34592a",
   "metadata": {},
   "outputs": [
    {
     "data": {
      "text/plain": [
       "149"
      ]
     },
     "execution_count": 1159,
     "metadata": {},
     "output_type": "execute_result"
    }
   ],
   "source": [
    "df_of[df_of.train_test_group == 'test'].Offer_ID.nunique()"
   ]
  },
  {
   "cell_type": "code",
   "execution_count": 1160,
   "id": "86a22f06",
   "metadata": {},
   "outputs": [
    {
     "data": {
      "text/plain": [
       "{'F216'}"
      ]
     },
     "execution_count": 1160,
     "metadata": {},
     "output_type": "execute_result"
    }
   ],
   "source": [
    "set(df_of[df_of.train_test_group == 'test'].Offer_ID) - set(submit.Offer_ID)"
   ]
  },
  {
   "cell_type": "code",
   "execution_count": 1161,
   "id": "3226d7b1",
   "metadata": {},
   "outputs": [],
   "source": [
    "submit.at[148, 'Offer_ID'] = 'F216'\n",
    "submit.at[148, 'UpLift'] = 3"
   ]
  },
  {
   "cell_type": "code",
   "execution_count": 1162,
   "id": "82a20852",
   "metadata": {},
   "outputs": [],
   "source": [
    "df_sub = df_sa.copy()\n",
    "\n",
    "for idx, row in df_sub.iterrows():\n",
    "    df_sub.at[idx, 'UpLift'] = submit[submit.Offer_ID == row.Offer_ID].UpLift.iloc[0]"
   ]
  },
  {
   "cell_type": "code",
   "execution_count": 1163,
   "id": "73a72b99",
   "metadata": {},
   "outputs": [],
   "source": [
    "df_sub.to_csv('submit15.csv')"
   ]
  },
  {
   "cell_type": "code",
   "execution_count": null,
   "id": "dbe1508f",
   "metadata": {},
   "outputs": [],
   "source": []
  }
 ],
 "metadata": {
  "kernelspec": {
   "display_name": "py38_default",
   "language": "python",
   "name": "conda-env-py38_default-py"
  },
  "language_info": {
   "codemirror_mode": {
    "name": "ipython",
    "version": 3
   },
   "file_extension": ".py",
   "mimetype": "text/x-python",
   "name": "python",
   "nbconvert_exporter": "python",
   "pygments_lexer": "ipython3",
   "version": "3.8.8"
  }
 },
 "nbformat": 4,
 "nbformat_minor": 5
}
